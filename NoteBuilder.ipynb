{
 "cells": [
  {
   "cell_type": "code",
   "execution_count": 6,
   "metadata": {},
   "outputs": [
    {
     "name": "stdout",
     "output_type": "stream",
     "text": [
      "\u001b[32m\u001b[1mRunning Jupyter-Book v0.12.0\u001b[0m\n",
      "\u001b[34m\u001b[1mSource Folder: \u001b[0m/home/sensei/ce-5366-webroot/1-ce-5366-notebook\n",
      "\u001b[34m\u001b[1mConfig Path: \u001b[0m/home/sensei/ce-5366-webroot/1-ce-5366-notebook/_config.yml\n",
      "\u001b[34m\u001b[1mOutput Path: \u001b[0m/home/sensei/ce-5366-webroot/1-ce-5366-notebook/_build/html\n",
      "\u001b[01mRunning Sphinx v3.5.2\u001b[39;49;00m\n",
      "[etoc] Changing master_doc to 'intro'\n",
      "\u001b[01mloading pickled environment... \u001b[39;49;00mchecking for /home/sensei/ce-5366-webroot/1-ce-5366-notebook/references.bib in bibtex cache... up to date\n",
      "done\n",
      "\u001b[01mmyst v0.15.2:\u001b[39;49;00m MdParserConfig(renderer='sphinx', commonmark_only=False, enable_extensions=['colon_fence', 'dollarmath', 'linkify', 'substitution', 'tasklist'], dmath_allow_labels=True, dmath_allow_space=True, dmath_allow_digits=True, dmath_double_inline=False, update_mathjax=True, mathjax_classes='tex2jax_process|mathjax_process|math|output_area', disable_syntax=[], url_schemes=['mailto', 'http', 'https'], heading_anchors=None, heading_slug_func=None, html_meta=[], footnote_transition=True, substitutions=[], sub_delimiters=['{', '}'], words_per_minute=200)\n",
      "\u001b[01mbuilding [mo]: \u001b[39;49;00mtargets for 0 po files that are out of date\n",
      "\u001b[01mbuilding [html]: \u001b[39;49;00mtargets for 1 source files that are out of date\n",
      "\u001b[01mupdating environment: \u001b[39;49;00m\u001b[01mexecuting outdated notebooks... \u001b[39;49;00mExecuting: /home/sensei/ce-5366-webroot/1-ce-5366-notebook/chapters/decisionSupportbyLP/linearprograms.ipynb\n",
      "GLPSOL: GLPK LP/MIP Solver, v4.65\n",
      "Parameter(s) specified in the command line:\n",
      " --cpxlp /tmp/21aae119eed24a1a81b6a22632a580e0-pulp.lp -o /tmp/21aae119eed24a1a81b6a22632a580e0-pulp.sol\n",
      "Reading problem data from '/tmp/21aae119eed24a1a81b6a22632a580e0-pulp.lp'...\n",
      "6 rows, 8 columns, 16 non-zeros\n",
      "8 integer variables, none of which are binary\n",
      "30 lines were read\n",
      "GLPK Integer Optimizer, v4.65\n",
      "6 rows, 8 columns, 16 non-zeros\n",
      "8 integer variables, none of which are binary\n",
      "Preprocessing...\n",
      "6 rows, 8 columns, 16 non-zeros\n",
      "8 integer variables, none of which are binary\n",
      "Scaling...\n",
      " A: min|aij| =  1.000e+00  max|aij| =  1.000e+00  ratio =  1.000e+00\n",
      "Problem data seem to be well scaled\n",
      "Constructing initial basis...\n",
      "Size of triangular part is 6\n",
      "Solving LP relaxation...\n",
      "GLPK Simplex Optimizer, v4.65\n",
      "6 rows, 8 columns, 16 non-zeros\n",
      "      0: obj =   0.000000000e+00 inf =   1.050e+05 (4)\n",
      "      5: obj =   2.000000000e+05 inf =   0.000e+00 (0)\n",
      "OPTIMAL LP SOLUTION FOUND\n",
      "Integer optimization begins...\n",
      "Long-step dual simplex will be used\n",
      "+     5: mip =     not found yet >=              -inf        (1; 0)\n",
      "+     5: >>>>>   2.000000000e+05 >=   2.000000000e+05   0.0% (1; 0)\n",
      "+     5: mip =   2.000000000e+05 >=     tree is empty   0.0% (0; 1)\n",
      "INTEGER OPTIMAL SOLUTION FOUND\n",
      "Time used:   0.0 secs\n",
      "Memory used: 0.1 Mb (55310 bytes)\n",
      "Writing MIP solution to '/tmp/21aae119eed24a1a81b6a22632a580e0-pulp.sol'...\n",
      "Execution Succeeded: /home/sensei/ce-5366-webroot/1-ce-5366-notebook/chapters/decisionSupportbyLP/linearprograms.ipynb\n",
      "done\n",
      "0 added, 1 changed, 0 removed\n",
      "\u001b[01mreading sources... \u001b[39;49;00m[100%] \u001b[35mchapters/decisionSupportbyLP/linearprograms\u001b[39;49;00m           \n",
      "\u001b[01mlooking for now-outdated files... \u001b[39;49;00mnone found\n",
      "\u001b[01mpickling environment... \u001b[39;49;00mdone\n",
      "\u001b[01mchecking consistency... \u001b[39;49;00m\u001b[91m/home/sensei/ce-5366-webroot/1-ce-5366-notebook/chapters/systems_models_dss/systems_models_dss.ipynb: WARNING: document isn't included in any toctree\u001b[39;49;00m\n",
      "\u001b[91m/home/sensei/ce-5366-webroot/1-ce-5366-notebook/chapters/trash/decisionSupportbyLP/linearprograms.ipynb: WARNING: document isn't included in any toctree\u001b[39;49;00m\n",
      "done\n",
      "\u001b[01mpreparing documents... \u001b[39;49;00mdone\n",
      "\u001b[01mwriting output... \u001b[39;49;00m[100%] \u001b[32mintro\u001b[39;49;00m                                                  \n",
      "\u001b[91m/home/sensei/ce-5366-webroot/1-ce-5366-notebook/chapters/decisionSupportbyLP/linearprograms.ipynb:10051: WARNING: 'myst' reference target not found: dummy\u001b[39;49;00m\n",
      "\u001b[01mgenerating indices... \u001b[39;49;00mgenindex done\n",
      "\u001b[01mwriting additional pages... \u001b[39;49;00msearch done\n",
      "\u001b[01mcopying images... \u001b[39;49;00m[100%] \u001b[33mchapters/decisionSupportbyLP/LPinR.png\u001b[39;49;00m                 \n",
      "\u001b[01mcopying static files... \u001b[39;49;00mdone\n",
      "\u001b[01mcopying extra files... \u001b[39;49;00mdone\n",
      "\u001b[01mdumping search index in English (code: en)... \u001b[39;49;00mdone\n",
      "\u001b[01mdumping object inventory... \u001b[39;49;00mdone\n",
      "\u001b[01mbuild succeeded, 3 warnings.\u001b[39;49;00m\n",
      "\n",
      "The HTML pages are in 1-ce-5366-notebook/_build/html.\n",
      "\n",
      "\u001b[92m===============================================================================\u001b[0m\n",
      "\n",
      "Finished generating HTML for book.\n",
      "Your book's HTML pages are here:\n",
      "    1-ce-5366-notebook/_build/html/\n",
      "You can look at your book by opening this file in a browser:\n",
      "    1-ce-5366-notebook/_build/html/index.html\n",
      "Or paste this line directly into your browser bar:\n",
      "    file:///home/sensei/ce-5366-webroot/1-ce-5366-notebook/_build/html/index.html            \n",
      "\n",
      "\u001b[92m===============================================================================\u001b[0m\n",
      "\n"
     ]
    }
   ],
   "source": [
    "! jupyter-book build 1-ce-5366-notebook"
   ]
  },
  {
   "cell_type": "code",
   "execution_count": null,
   "metadata": {},
   "outputs": [],
   "source": []
  },
  {
   "cell_type": "code",
   "execution_count": null,
   "metadata": {},
   "outputs": [],
   "source": []
  }
 ],
 "metadata": {
  "kernelspec": {
   "display_name": "Python 3",
   "language": "python",
   "name": "python3"
  },
  "language_info": {
   "codemirror_mode": {
    "name": "ipython",
    "version": 3
   },
   "file_extension": ".py",
   "mimetype": "text/x-python",
   "name": "python",
   "nbconvert_exporter": "python",
   "pygments_lexer": "ipython3",
   "version": "3.8.10"
  }
 },
 "nbformat": 4,
 "nbformat_minor": 4
}
