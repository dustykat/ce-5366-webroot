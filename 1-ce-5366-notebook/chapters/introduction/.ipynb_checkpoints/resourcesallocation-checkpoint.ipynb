{
 "cells": [
  {
   "cell_type": "markdown",
   "metadata": {},
   "source": [
    "# Resource Allocation\n",
    "\n",
    "The prime focus (of this class) is water resources management, although I suspect the principles extend beyond that realm. \n",
    "Water resources management is the activity of planning, developing, distributing and managing the optimum use of water resources. \n",
    "Water resource management planning considers the competing demands for/on water (quantity, quality, location, and timing), and seeks to allocate a scarce resource (water) on an equitable basis to satisfy all uses and demands\n",
    "\n",
    "Consider the meanings of **allocate**\n",
    "\n",
    "1. to apportion for a specific purpose or to particular persons or things : for example to allocate (distribute) tasks among human and automated components\n",
    "2. to set apart or earmark : for example to allocate (designate) a section of the building for special research purposes\n",
    "\n",
    "Consider the meanings of **equity**\n",
    "\n",
    "1. having or exhibiting equity : dealing fairly and equally with all concerned; an equitable settlement of the dispute\n",
    "2. existing or valid in equity as distinguished from law; an equitable defense\n",
    "\n",
    "Because the resource is scarce; allocation will necessarily deny the resource to some, and supply it\n",
    "to others. Equity implies some kind of “fairness” in that allocation.\n",
    "Allocation requires decisions be made and that is done by either an individual decision maker (like\n",
    "the president) or collective decision maker(s) (like a board of directors"
   ]
  },
  {
   "cell_type": "markdown",
   "metadata": {},
   "source": [
    "## Decision Making Concepts\n",
    "\n",
    "How do individuals and groups make decisions?\n",
    "\n",
    "- Some people may seem indecisive or inconsistent. They may avoid making decisions as long as\n",
    "possible. The same reluctance to make decisions also happens in organizations or institutions.\n",
    "\n",
    "- On the other hand, some people and groups may be accused of ”leaping to conclusions” or making a decision ”without considering all the facts.”\n",
    "\n",
    "The dicotomy implies that decisions should be made by collecting and weighing various elements\n",
    "in a rational way. **Alternatives must exist**, or there is no decision required.\n",
    "\n",
    "There are substantial psychological aspects in decision making, peoples choices are influenced by\n",
    "how the alternatives are presented. \n",
    "\n",
    "Consider Figure 1 below. The decision is select A or B, and the\n",
    "outcomes are shown. The upper panel presents the alternative in a survival context, whereas the\n",
    "lower panel presents the alternatives in a mortality context. Which is the best decision? \n",
    "\n",
    "![](decisionprobability.png)\n",
    "\n",
    "What we have so far are scarce resources, and a desire to alloctate fairly. \n",
    "To allocate we need to make decisions; and decisions (by people) are emotional at the moment of the decision. Hence any tool to help make the decision (think spread the blame) is useful.\n",
    "\n",
    "The challenge of resources management is to define “what is fair” for a situation; define alternatives\n",
    "(present a decision point); define and implement tools to support the decision."
   ]
  },
  {
   "cell_type": "markdown",
   "metadata": {},
   "source": [
    "## Tools to Support and Implement Decisions\n",
    "\n",
    "Tools to support the decision will need to address\n",
    "\n",
    "1. Value of alternatives – how to measure “fairness”\n",
    "2. Policy to rank the value(s)\n",
    "3. Policy to guide the decision\n",
    "\n",
    "It may be possible in a well defined situation to hand off the decision to an algorithm (narrow\n",
    "domain AI). An aircraft autopilot is an example of such a situation – but even that has risks; just\n",
    "ask Boeing!\n",
    "\n",
    "Tools to implement the decision will need to address\n",
    "\n",
    "- Do we control the system?\n",
    "\n",
    "SCADA Algorithm operating a water distribution network — can probably be fully au-\n",
    "tonomous with little human intervention\n",
    "\n",
    "- Do we just influence the system\n",
    "\n",
    "Voluntary compliance versus risk of apprehension for water quality management"
   ]
  },
  {
   "cell_type": "markdown",
   "metadata": {},
   "source": [
    "## References\n",
    "\n",
    "1. Faulconbridge, Ian. Introduction to Systems Engineering (Kindle Location 181). Argos Press Pty Ltd. Kindle Edition.\n",
    "\n",
    "2. Frank, M. (2002), “What is “engineering systems thinking”?”, Kybernetes, Vol. 31 No. 9/10, pp. 1350-1360. https://doi.org/10.1108/03684920210443554"
   ]
  },
  {
   "cell_type": "markdown",
   "metadata": {},
   "source": []
  }
 ],
 "metadata": {
  "kernelspec": {
   "display_name": "Python 3 (ipykernel)",
   "language": "python",
   "name": "python3"
  },
  "language_info": {
   "codemirror_mode": {
    "name": "ipython",
    "version": 3
   },
   "file_extension": ".py",
   "mimetype": "text/x-python",
   "name": "python",
   "nbconvert_exporter": "python",
   "pygments_lexer": "ipython3",
   "version": "3.8.10"
  }
 },
 "nbformat": 4,
 "nbformat_minor": 4
}
