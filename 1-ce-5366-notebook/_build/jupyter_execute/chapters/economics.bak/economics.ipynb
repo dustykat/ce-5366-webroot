{
 "cells": [
  {
   "cell_type": "markdown",
   "metadata": {},
   "source": [
    "# Economics as a Decision Support Structure\n",
    "\n",
    "## Defining Alternatives\n",
    "- Application of economics principles to assign **value** to an alternative\n",
    "- Decision principles used to select the best alternative based on **value**"
   ]
  },
  {
   "cell_type": "markdown",
   "metadata": {},
   "source": [
    "## Physical consequences\n",
    "\n",
    "- Economic value – a basis for comparisons\n",
    "- Definitions/Concepts\n",
    "- Economic Analysis\n",
    "  - Principles of engineering economics\n",
    "  - Cash flows\n",
    "  - Discounting methods"
   ]
  },
  {
   "cell_type": "markdown",
   "metadata": {},
   "source": [
    "## Cash Flow Diagrams\n",
    "\n",
    "Graphic representation of cash outflow (costs) and inflow (revenue).  \n",
    "\n",
    "![](cashflow.png)\n",
    "\n",
    "\n",
    "- Convention is revenue (benefit) is plotted upward, and expenses (costs) is plotted downward.\n",
    "- All cash flows during a year are usually lumped into sums occurring at the end of the year \n",
    "\n",
    "## Discounting Factors\n",
    "\n",
    "- Discounting factor is a tool to convert a value at one date to an economically equivalent value at another date\n",
    "- All discounting problems can be expressed as combinations of two fundamental factors\n",
    "  - Single-payment Compound-amount Factor\n",
    "  - Single-payment Present-worth Factor\n",
    "  \n",
    "### Present Value to Future Value\n",
    "\n",
    "The factor computes the number of monetary units (FV) that will accumulate in N years for every initial unit (PV) invested at a rate of return of *i-percent*.\n",
    "\n",
    "$$FV=PV(1 + i)^N$$\n",
    "\n",
    "### Future Value to Present Value\n",
    "\n",
    "The factor computes the number of current monetary units (PV) that a future value (FV) is worth if the monetary units are invested at a rate of return of *i-percent*.\n",
    "\n",
    "$$PV=FV(1 + i)^{-N}$$\n",
    "\n",
    "### Other Factors\n",
    "\n",
    "Notice the cash flow diagram looks the same – it is a tool to move values along the time axis. All other diagrams can be determined by combinations of these two concepts.\n",
    "\n",
    ">Can either apply algebra to make the combinations, or just use simple computer programming (e.g. R)\n"
   ]
  },
  {
   "cell_type": "markdown",
   "metadata": {},
   "source": [
    "## Example\n",
    "\n",
    "Determine the present worth (PV) of a stream of annual payments, each payment is \\$100 for a period of 10 years. The discount rate is 3-percent per year.\n",
    "\n",
    "- Sketch a cash flow diagram\n",
    "\n",
    "![](examplecashflow.png)\n",
    "\n",
    "\n",
    "- Implement computations for year 0 to 10 (11 increments in total)"
   ]
  },
  {
   "cell_type": "code",
   "execution_count": 1,
   "metadata": {},
   "outputs": [
    {
     "name": "stdout",
     "output_type": "stream",
     "text": [
      "Present Worth of 10 annual payments of $100 @ 3% interest is $ 853.02\n"
     ]
    }
   ],
   "source": [
    "# cash flow calculations\n",
    "discount_rate = 0.03 # 3% interest rate\n",
    "payments = [0,100,100,100,100,100,100,100,100,100,100]\n",
    "present_value = [0 for i in range(11)] # empty list\n",
    "for i in range(0,11):\n",
    "    present_value[i] = payments[i]*(1+discount_rate)**(-i)\n",
    "\n",
    "#add up all the present values\n",
    "print(\"Present Worth of 10 annual payments of $100 @ 3% interest is $\",round(sum(present_value),2))\n"
   ]
  },
  {
   "cell_type": "markdown",
   "metadata": {},
   "source": [
    "## Discounting Techniques\n",
    "\n",
    "Refers to systematic application of discounting factors to compare alternatives\n",
    "\n",
    "The 4 accepted techniques are:\n",
    "- Present worth method\n",
    "- Rate-of-return method\n",
    "- Benefit-cost ratio method \n",
    "- Annual-cost method\n",
    "\n",
    "Each method produces the same evaluation of relative value"
   ]
  },
  {
   "cell_type": "markdown",
   "metadata": {
    "tags": []
   },
   "source": [
    "## References\n",
    "\n",
    "1. [Cleveland, T. G. (2017) *ECONOMIC ANALYSIS MATHEMATICS Notes to Accompany CE 5366 at TTU*](http://54.243.252.9/ce-5333-systems-webroot/1-Lectures/Lecture03/powerpoint/CE5366-Lesson-07.pdf)\n",
    "\n",
    "2. [Cleveland, T. G. (2017) *BENEFIT-COST ANALYSIS Notes to Accompany CE 5366 at TTU*](http://54.243.252.9/ce-5333-systems-webroot/1-Lectures/Lecture04/powerpoint/CE5366-Lesson-08.pdf)\n",
    "\n",
    "3. [Cleveland, T. G. (2019) *BENEFIT-COST ANALYSIS Notes to Accompany CE 5366 at TTU*](http://54.243.252.9/ce-5333-systems-webroot/1-Lectures/Lecture04/powerpoint/CE5366-Lecture-04.pdf)"
   ]
  }
 ],
 "metadata": {
  "kernelspec": {
   "display_name": "Python 3",
   "language": "python",
   "name": "python3"
  },
  "language_info": {
   "codemirror_mode": {
    "name": "ipython",
    "version": 3
   },
   "file_extension": ".py",
   "mimetype": "text/x-python",
   "name": "python",
   "nbconvert_exporter": "python",
   "pygments_lexer": "ipython3",
   "version": "3.8.10"
  }
 },
 "nbformat": 4,
 "nbformat_minor": 4
}