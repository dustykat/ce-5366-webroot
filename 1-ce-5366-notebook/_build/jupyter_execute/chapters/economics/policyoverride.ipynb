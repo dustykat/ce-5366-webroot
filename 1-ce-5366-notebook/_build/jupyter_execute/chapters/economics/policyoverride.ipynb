{
 "cells": [
  {
   "cell_type": "markdown",
   "metadata": {},
   "source": [
    "# Policy Overrides\n",
    "\n",
    "In many instances, economics on a human lifetime time scale cannot provide adequate decision guidance.  In these (and most cases) independent policy decisions may and do override the economic decision."
   ]
  }
 ],
 "metadata": {
  "kernelspec": {
   "display_name": "Python 3",
   "language": "python",
   "name": "python3"
  },
  "language_info": {
   "codemirror_mode": {
    "name": "ipython",
    "version": 3
   },
   "file_extension": ".py",
   "mimetype": "text/x-python",
   "name": "python",
   "nbconvert_exporter": "python",
   "pygments_lexer": "ipython3",
   "version": "3.8.10"
  }
 },
 "nbformat": 4,
 "nbformat_minor": 4
}