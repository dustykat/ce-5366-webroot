{
 "cells": [
  {
   "cell_type": "markdown",
   "metadata": {},
   "source": [
    "# Linear Programming for Decision Support\n",
    "\n",
    "Linear Programming (LP) is a powerful mathematical technique used for optimization. It involves maximizing or minimizing a **linear** objective function, subject to a set of **linear** constraints. The objective function represents the quantity to be optimized (such as profit or cost), while the constraints define the limitations or conditions within which the optimization must occur (like resource availability or production capacities).\n",
    "\n",
    "LP is widely applied in various fields such as economics, engineering, business management, and logistics, where decisions need to be made to allocate limited resources efficiently. The method is particularly valuable because it provides a systematic way to find the best possible solution given these constraints, ensuring optimal decision-making and resource allocation. Through LP, complex real-world problems can be transformed into a structured mathematical framework, facilitating informed decision-making and maximizing outcomes.\n",
    "\n",
    "## Solving Linear Programs\n",
    "Danzig's algorithm also known as the simplex method, is a fundamental technique within Linear Programming for solving optimization problems. Developed by George Dantzig in the late 1940s, it revolutionized the field by providing an efficient way to find the optimal solution to linear programming problems.\n",
    "\n",
    "Here's how Danzig's algorithm fits into the broader context of Linear Programming:\n",
    "Linear Programming (LP):\n",
    "\n",
    "LP involves optimizing a linear objective function subject to linear constraints. The general form is: <br>\n",
    "\n",
    "  Maximize: $c^T x$ <br>\n",
    "Subject to: \n",
    "$Ax <= b$;$Ix >= 0$\n",
    "\n",
    "\n",
    "Where:\n",
    "\n",
    "- $x$ is the vector of decision variables to be determined,\n",
    "- $c$ is the vector of coefficients representing the objective function to maximize,\n",
    "- $A$ is the matrix of coefficients of the constraints,\n",
    "- $I$ is the identity matrix\n",
    "- $b$ is the vector of constants on the right-hand side of the constraints.\n",
    "\n",
    "### Danzig's Algorithm (Simplex Method):\n",
    "\n",
    "[Danzig's algorithm](https://en.wikipedia.org/wiki/Simplex_algorithm) is an iterative procedure that systematically moves from one feasible solution to another along the edges of the feasible region until the optimal solution is found. The steps involved typically include:\n",
    "\n",
    "- Initialization: Start with a feasible solution.\n",
    "- Iteration: Move to an adjacent feasible solution that improves the objective function (if possible).\n",
    "- Termination: Stop when no further improvements can be made, indicating the optimal solution has been reached.\n",
    "\n",
    "The simplex method operates by pivoting among the variables to gradually improve the objective function value. It ensures that each iteration moves closer to the optimal solution by following a strategic path through the vertices (corners) of the feasible region defined by the constraints.\n",
    "Benefits and Applications:\n",
    "\n",
    "- Efficiency: Despite its theoretical worst-case exponential time complexity, the simplex method often performs efficiently in practice for many real-world problems.\n",
    "- Versatility: It can handle large-scale linear programming problems with numerous variables and constraints, making it applicable in diverse fields such as economics (production planning), logistics (supply chain optimization), and finance (portfolio optimization).\n",
    "- Optimality: Danzig's algorithm **guarantees** finding the optimal solution under certain conditions, providing confidence in decision-making processes.\n",
    "\n",
    "The simplex method is a cornerstone of Linear Programming (there is a similarily named method in non-linear programming), offering a systematic approach to solving optimization problems by iteratively improving feasible solutions until the best possible outcome is achieved, within the constraints provided. Its practical applications and theoretical underpinnings make it indispensable in various industries for making informed decisions and optimizing resource allocations.\n",
    "\n",
    "### Practical Implementation\n",
    "\n",
    "Except for really small (trivial) problems, LP is unworkable by hand.  Usually some specalized tool is used including:\n",
    "\n",
    "1. **MS Excel Solver Add-In**.  Farily simple to implement, but limited in overall problem scale.  Many significant problems have millions of decision variables, Excel cannot handle those size problems. An internet search produces a lot of tutorials such as: [Linear Programming with Solver](https://www.msubillings.edu/asc/writingcenter/resources/math/tutorials/finitemathhelps/Lin%20Prog%20with%20Excel.pdf)\n",
    "2. **R Packages**.  Harder to implement; requires some understanding of R libraries, but can handle larger scale problems and is far easier to automate multi-stage programming.  An example package is [dummy](dummy)\n",
    "3. **Python Packages**.  Like R, requires some understanding of python libraries, but can handle large scale problems, is inherently automatable.  An example is shown beloy using the `scipy` kernel library; there are other libraries - see the reference list.  One thing to note is the python tools are very architecture dependent - some only work on Intel/AMD architecture (specific hardware) others are more general and can run on ARM architecture.  The example below runs fine on Raspberry Pi, or an Intel laptop, or an AWS virtual private server.\n",
    "4. **Commercial Software** For really big problems, one will use commercial software such as [LINDO](https://lindo.com/), [MINOS](https://en.wikipedia.org/wiki/MINOS_(optimization_software)) or [IBM CPLEX](https://www.ibm.com/products/ilog-cplex-optimization-studio/cplex-optimizer)"
   ]
  },
  {
   "cell_type": "markdown",
   "metadata": {},
   "source": [
    "## Example using `scipy`\n",
    "\n",
    "The example below is verbatim from [Mirko Stojiljković (2020) Hands-On Linear Programming: Optimization With Python. Real Python (Blog Post)](https://realpython.com/linear-programming-python/)"
   ]
  },
  {
   "cell_type": "code",
   "execution_count": 2,
   "metadata": {},
   "outputs": [],
   "source": [
    "from scipy.optimize import linprog"
   ]
  },
  {
   "cell_type": "code",
   "execution_count": 3,
   "metadata": {},
   "outputs": [],
   "source": [
    "obj = [-1, -2]\n",
    "lhs_ineq = [[ 2,  1],  # Red constraint left side\n",
    "[-4,  5],  # Blue constraint left side\n",
    "[ 1, -2]]  # Yellow constraint left side\n",
    "\n",
    "rhs_ineq = [20,  # Red constraint right side\n",
    "10,  # Blue constraint right side\n",
    "2]  # Yellow constraint right side\n",
    "\n",
    "lhs_eq = [[-1, 5]]  # Green constraint left side\n",
    "rhs_eq = [15]       # Green constraint right side"
   ]
  },
  {
   "cell_type": "code",
   "execution_count": 4,
   "metadata": {},
   "outputs": [],
   "source": [
    "bnd = [(0, float(\"inf\")),  # Bounds of x\n",
    "(0, float(\"inf\"))]  # Bounds of y"
   ]
  },
  {
   "cell_type": "code",
   "execution_count": 5,
   "metadata": {},
   "outputs": [
    {
     "data": {
      "text/plain": [
       "     con: array([1.77635684e-15])\n",
       "     fun: -16.818181818181817\n",
       " message: 'Optimization terminated successfully.'\n",
       "     nit: 3\n",
       "   slack: array([ 0.        , 18.18181818,  3.36363636])\n",
       "  status: 0\n",
       " success: True\n",
       "       x: array([7.72727273, 4.54545455])"
      ]
     },
     "execution_count": 5,
     "metadata": {},
     "output_type": "execute_result"
    }
   ],
   "source": [
    "opt = linprog(c=obj, A_ub=lhs_ineq, b_ub=rhs_ineq,\n",
    "...               A_eq=lhs_eq, b_eq=rhs_eq, bounds=bnd,\n",
    "...               method=\"revised simplex\")\n",
    "opt"
   ]
  },
  {
   "cell_type": "markdown",
   "metadata": {},
   "source": [
    "## Example using `PuLP`\n",
    "\n",
    "The example below is verbatim from [Priyansh Soni (2020) Linear Programming using Python. Towards Data Science (Blog Post)](https://towardsdatascience.com/linear-programming-using-python-priyansh-22b5ee888fe0)\n",
    "\n",
    ":::{note}\n",
    "This example does not play well with a Raspberry Pi, my guess is some apsect in PuLP is not compiling correctly for the ARM processor.\n",
    "The change in solver type produces correct output - this is typical for packages regardless of host type.  The user needs to mess with things to get it working.\n",
    ":::"
   ]
  },
  {
   "cell_type": "code",
   "execution_count": 73,
   "metadata": {
    "jupyter": {
     "source_hidden": true
    }
   },
   "outputs": [
    {
     "name": "stdout",
     "output_type": "stream",
     "text": [
      "Variable Indices: ['11', '12', '13', '14', '21', '22', '23', '24']\n",
      "Decision Variable/Allocation Matrix: \n",
      "[[X_11 X_12 X_13 X_14]\n",
      " [X_21 X_22 X_23 X_24]]\n",
      "X_11 + 3.0*X_12 + 0.5*X_13 + 4.0*X_14 + 2.5*X_21 + 5.0*X_22 + 1.5*X_23 + 2.5*X_24\n",
      "Supply-Demand-Problem:\n",
      "MINIMIZE\n",
      "1.0*X_11 + 3.0*X_12 + 0.5*X_13 + 4.0*X_14 + 2.5*X_21 + 5.0*X_22 + 1.5*X_23 + 2.5*X_24 + 0.0\n",
      "VARIABLES\n",
      "0 <= X_11 Integer\n",
      "0 <= X_12 Integer\n",
      "0 <= X_13 Integer\n",
      "0 <= X_14 Integer\n",
      "0 <= X_21 Integer\n",
      "0 <= X_22 Integer\n",
      "0 <= X_23 Integer\n",
      "0 <= X_24 Integer\n",
      "\n"
     ]
    }
   ],
   "source": [
    "from pulp import * # pulp needs to be installed into the kernel first\n",
    "import pandas as pd\n",
    "import numpy as np\n",
    "\n",
    "n_warehouses = 2\n",
    "n_customers = 4\n",
    "\n",
    "# Cost Matrix\n",
    "cost_matrix = np.array([[1, 3, 0.5, 4],\n",
    "                       [2.5, 5, 1.5, 2.5]])\n",
    "# Demand Matrix\n",
    "cust_demands = np.array([35000, 22000, 18000, 30000])\n",
    "\n",
    "# Supply Matrix\n",
    "warehouse_supply = np.array([60000, 80000])\n",
    "\n",
    "model = LpProblem(\"Supply-Demand-Problem\", LpMinimize)\n",
    "\n",
    "variable_names = [str(i)+str(j) for j in range(1, n_customers+1) for i in range(1, n_warehouses+1)]\n",
    "variable_names.sort()\n",
    "print(\"Variable Indices:\", variable_names)\n",
    "\n",
    "DV_variables = LpVariable.matrix(\"X\", variable_names, cat = \"Integer\", lowBound= 0 )\n",
    "allocation = np.array(DV_variables).reshape(2,4)\n",
    "print(\"Decision Variable/Allocation Matrix: \")\n",
    "print(allocation)\n",
    "\n",
    "obj_func = lpSum(allocation*cost_matrix)\n",
    "print(obj_func)\n",
    "model +=  obj_func\n",
    "print(model)"
   ]
  },
  {
   "cell_type": "code",
   "execution_count": 61,
   "metadata": {},
   "outputs": [
    {
     "name": "stdout",
     "output_type": "stream",
     "text": [
      "X_11 + X_12 + X_13 + X_14 <= 60000\n",
      "X_21 + X_22 + X_23 + X_24 <= 80000\n"
     ]
    }
   ],
   "source": [
    "#Supply Constraints\n",
    "for i in range(n_warehouses):\n",
    "    print(lpSum(allocation[i][j] for j in range(n_customers)) <= warehouse_supply[i])\n",
    "    model += lpSum(allocation[i][j] for j in range(n_customers)) <= warehouse_supply[i] , \"Supply Constraints \" + str(i)"
   ]
  },
  {
   "cell_type": "code",
   "execution_count": 62,
   "metadata": {},
   "outputs": [
    {
     "name": "stdout",
     "output_type": "stream",
     "text": [
      "X_11 + X_21 >= 35000\n",
      "X_12 + X_22 >= 22000\n",
      "X_13 + X_23 >= 18000\n",
      "X_14 + X_24 >= 30000\n"
     ]
    }
   ],
   "source": [
    "# Demand Constraints\n",
    "for j in range(n_customers):\n",
    "    print(lpSum(allocation[i][j] for i in range(n_warehouses)) >= cust_demands[j])\n",
    "    model += lpSum(allocation[i][j] for i in range(n_warehouses)) >= cust_demands[j] , \"Demand Constraints \" + str(j)"
   ]
  },
  {
   "cell_type": "code",
   "execution_count": 63,
   "metadata": {},
   "outputs": [
    {
     "data": {
      "text/plain": [
       "[X_11, X_12, X_13, X_14, X_21, X_22, X_23, X_24]"
      ]
     },
     "execution_count": 63,
     "metadata": {},
     "output_type": "execute_result"
    }
   ],
   "source": [
    "model.writeMPS(\"Supply_demand_prob.lp\") # write problem set-up to a text file"
   ]
  },
  {
   "cell_type": "code",
   "execution_count": 64,
   "metadata": {},
   "outputs": [
    {
     "name": "stdout",
     "output_type": "stream",
     "text": [
      "Optimal\n"
     ]
    }
   ],
   "source": [
    "from pulp import GLPK # A working solver needs to be loaded explicit on ARM!\n",
    "\n",
    "#model.solve()\n",
    "\n",
    "model.solve(solver=GLPK(msg=True))\n",
    "\n",
    "status =  LpStatus[model.status]\n",
    "\n",
    "print(status)"
   ]
  },
  {
   "cell_type": "code",
   "execution_count": 65,
   "metadata": {
    "collapsed": true,
    "jupyter": {
     "outputs_hidden": true,
     "source_hidden": true
    }
   },
   "outputs": [
    {
     "name": "stdout",
     "output_type": "stream",
     "text": [
      "Total Cost: 200000.0\n",
      "X_11 = 35000\n",
      "X_12 = 22000\n",
      "X_13 = 3000\n",
      "X_14 = 0\n",
      "X_21 = 0\n",
      "X_22 = 0\n",
      "X_23 = 15000\n",
      "X_24 = 30000\n"
     ]
    }
   ],
   "source": [
    "print(\"Total Cost:\", model.objective.value())\n",
    "\n",
    "# Decision Variables\n",
    "\n",
    "for v in model.variables():\n",
    "    try:\n",
    "        print(v.name,\"=\", v.value())\n",
    "    except:\n",
    "        print(\"error couldnt find value\")"
   ]
  },
  {
   "cell_type": "code",
   "execution_count": 66,
   "metadata": {
    "jupyter": {
     "source_hidden": true
    }
   },
   "outputs": [
    {
     "name": "stdout",
     "output_type": "stream",
     "text": [
      "Warehouse  1\n",
      "60000\n",
      "Warehouse  2\n",
      "45000\n"
     ]
    }
   ],
   "source": [
    "# Warehouse 1 and Warehouse 2 required capacity\n",
    "\n",
    "for i in range(n_warehouses):\n",
    "    print(\"Warehouse \", str(i+1))\n",
    "    print(lpSum(allocation[i][j].value() for j in range(n_customers)))"
   ]
  },
  {
   "cell_type": "markdown",
   "metadata": {},
   "source": [
    "This package looks more complicated than the other example, the value is the ability to save a file.  There is at the time of writing some issue with reading in the file, but it will undoubtable be solved in time.  As a practical matter, the analyst should code the entire model in such a way that reconstruction is simple."
   ]
  },
  {
   "cell_type": "markdown",
   "metadata": {},
   "source": [
    "## Example using `R`\n",
    "\n",
    "Consider another really simple example:\n",
    "\n",
    " $\\text{   minimize : }20 x_1 + 60 x_2$<br>\n",
    " $\\text{ subject to : }30 x_1 + 20 x_2 <= 2700$<br>\n",
    " $~~~~~~~~~~~~~~~~~~~~~ 5 x_1 + 10 x_2 <=   850$<br>\n",
    " $~~~~~~~~~~~~~~~~~~~~~~~~~~~   x_1 +    x_2 >=    95$<br>\n",
    " \n",
    "The screen capture below solves the LP above in R.  It uses the library LpSolve.  The syntax is awkward compared to the python scripts, but is otherwise similar. \n",
    "\n",
    "![](LPinR.png)\n",
    "\n",
    "[Modeling and Solving Linear Programs with R](http://54.243.252.9/ce-5366-webroot/3-Readings/ModelingAndSolvingLinearProgramsWithR.pdf) is a good starting place if you want to use R to do your computations.\n"
   ]
  },
  {
   "cell_type": "markdown",
   "metadata": {},
   "source": [
    "## Summary\n",
    "\n",
    "This section introduced practical approaches to solving Linear Programs, and illustrated use of Python packages to do so."
   ]
  },
  {
   "cell_type": "markdown",
   "metadata": {},
   "source": []
  },
  {
   "cell_type": "markdown",
   "metadata": {},
   "source": [
    "## References\n",
    "1. [Mirko Stojiljković (2020) Hands-On Linear Programming: Optimization With Python. Real Python (Blog Post)](https://realpython.com/linear-programming-python/)\n",
    "2. [scipy.optimize.linprog (Documentation)](https://docs.scipy.org/doc/scipy/reference/generated/scipy.optimize.linprog.html) \n",
    "3. [Priyansh Soni (2020) Linear Programming using Python. Towards Data Science (Blog Post)](https://towardsdatascience.com/linear-programming-using-python-priyansh-22b5ee888fe0)\n",
    "5. [Disser, Y. and Skutella, M. (2014). The Simplex Algorithm is NP-mighty. TU Berlin, Inst. of Mathematics, MA 5-2, Str. des 17. Juni\n",
    "136, 10623 Berlin, Germany.](https://www2.mathematik.tu-darmstadt.de/~disser/pdfs/DisserSkutella15.pdf)\n",
    "4. [Gross, O (1962). A LINEAR PROGRAM OF PRAGER'S; Notes on Linear Programming and Extensions. MEMORANDUM\n",
    "RM-2993-PR (Rand Corporation Memorandum to U.S. Air Force Research Headquarters)](https://apps.dtic.mil/sti/tr/pdf/AD0274596.pdf)\n"
   ]
  },
  {
   "cell_type": "code",
   "execution_count": null,
   "metadata": {},
   "outputs": [],
   "source": []
  },
  {
   "cell_type": "markdown",
   "metadata": {},
   "source": [
    "## Addendum `Python-MIP`\n",
    "\n",
    "Python-MIP is one of many LP solvers avaialble on the mighty internet; it is used in this course because it appears to run on a Raspberry Pi withou a lot of fuss (this is an architecture issue, for students using X86-64 machines, the Anaconda install should be just fine, and you can use any LP solver you wish).\n",
    "\n",
    "MIP means mixed integer programs, which are hard to solve efficiently.  The example below is the script to solve a knapsack problem.\n",
    "\n"
   ]
  },
  {
   "cell_type": "code",
   "execution_count": 74,
   "metadata": {},
   "outputs": [
    {
     "name": "stderr",
     "output_type": "stream",
     "text": [
      "An error occurred while loading the CBC library:\t cannot load library '/opt/jupyterhub/lib/python3.8/site-packages/mip/libraries/cbc-c-linux-x86-64.so': /opt/jupyterhub/lib/python3.8/site-packages/mip/libraries/cbc-c-linux-x86-64.so: cannot open shared object file: No such file or directory.  Additionally, ctypes.util.find_library() did not manage to locate a library called '/opt/jupyterhub/lib/python3.8/site-packages/mip/libraries/cbc-c-linux-x86-64.so'\n",
      "\n"
     ]
    },
    {
     "ename": "NameError",
     "evalue": "name 'cbclib' is not defined",
     "output_type": "error",
     "traceback": [
      "\u001b[0;31m---------------------------------------------------------------------------\u001b[0m",
      "\u001b[0;31mNameError\u001b[0m                                 Traceback (most recent call last)",
      "\u001b[0;32m<ipython-input-74-1f84f8ecca1b>\u001b[0m in \u001b[0;36m<module>\u001b[0;34m\u001b[0m\n\u001b[1;32m      5\u001b[0m \u001b[0mc\u001b[0m\u001b[0;34m,\u001b[0m \u001b[0mI\u001b[0m \u001b[0;34m=\u001b[0m \u001b[0;36m47\u001b[0m\u001b[0;34m,\u001b[0m \u001b[0mrange\u001b[0m\u001b[0;34m(\u001b[0m\u001b[0mlen\u001b[0m\u001b[0;34m(\u001b[0m\u001b[0mw\u001b[0m\u001b[0;34m)\u001b[0m\u001b[0;34m)\u001b[0m\u001b[0;34m\u001b[0m\u001b[0;34m\u001b[0m\u001b[0m\n\u001b[1;32m      6\u001b[0m \u001b[0;34m\u001b[0m\u001b[0m\n\u001b[0;32m----> 7\u001b[0;31m \u001b[0mm\u001b[0m \u001b[0;34m=\u001b[0m \u001b[0mModel\u001b[0m\u001b[0;34m(\u001b[0m\u001b[0;34m\"knapsack\"\u001b[0m\u001b[0;34m)\u001b[0m\u001b[0;34m\u001b[0m\u001b[0;34m\u001b[0m\u001b[0m\n\u001b[0m\u001b[1;32m      8\u001b[0m \u001b[0;34m\u001b[0m\u001b[0m\n\u001b[1;32m      9\u001b[0m \u001b[0mx\u001b[0m \u001b[0;34m=\u001b[0m \u001b[0;34m[\u001b[0m\u001b[0mm\u001b[0m\u001b[0;34m.\u001b[0m\u001b[0madd_var\u001b[0m\u001b[0;34m(\u001b[0m\u001b[0mvar_type\u001b[0m\u001b[0;34m=\u001b[0m\u001b[0mBINARY\u001b[0m\u001b[0;34m)\u001b[0m \u001b[0;32mfor\u001b[0m \u001b[0mi\u001b[0m \u001b[0;32min\u001b[0m \u001b[0mI\u001b[0m\u001b[0;34m]\u001b[0m\u001b[0;34m\u001b[0m\u001b[0;34m\u001b[0m\u001b[0m\n",
      "\u001b[0;32m/opt/jupyterhub/lib/python3.8/site-packages/mip/model.py\u001b[0m in \u001b[0;36m__init__\u001b[0;34m(self, name, sense, solver_name, solver)\u001b[0m\n\u001b[1;32m     96\u001b[0m                     \u001b[0mself\u001b[0m\u001b[0;34m.\u001b[0m\u001b[0msolver_name\u001b[0m \u001b[0;34m=\u001b[0m \u001b[0mmip\u001b[0m\u001b[0;34m.\u001b[0m\u001b[0mGUROBI\u001b[0m\u001b[0;34m\u001b[0m\u001b[0;34m\u001b[0m\u001b[0m\n\u001b[1;32m     97\u001b[0m                 \u001b[0;32melse\u001b[0m\u001b[0;34m:\u001b[0m\u001b[0;34m\u001b[0m\u001b[0;34m\u001b[0m\u001b[0m\n\u001b[0;32m---> 98\u001b[0;31m                     \u001b[0;32mimport\u001b[0m \u001b[0mmip\u001b[0m\u001b[0;34m.\u001b[0m\u001b[0mcbc\u001b[0m\u001b[0;34m\u001b[0m\u001b[0;34m\u001b[0m\u001b[0m\n\u001b[0m\u001b[1;32m     99\u001b[0m \u001b[0;34m\u001b[0m\u001b[0m\n\u001b[1;32m    100\u001b[0m                     \u001b[0mself\u001b[0m\u001b[0;34m.\u001b[0m\u001b[0msolver\u001b[0m \u001b[0;34m=\u001b[0m \u001b[0mmip\u001b[0m\u001b[0;34m.\u001b[0m\u001b[0mcbc\u001b[0m\u001b[0;34m.\u001b[0m\u001b[0mSolverCbc\u001b[0m\u001b[0;34m(\u001b[0m\u001b[0mself\u001b[0m\u001b[0;34m,\u001b[0m \u001b[0mname\u001b[0m\u001b[0;34m,\u001b[0m \u001b[0msense\u001b[0m\u001b[0;34m)\u001b[0m\u001b[0;34m\u001b[0m\u001b[0;34m\u001b[0m\u001b[0m\n",
      "\u001b[0;32m/opt/jupyterhub/lib/python3.8/site-packages/mip/cbc.py\u001b[0m in \u001b[0;36m<module>\u001b[0;34m\u001b[0m\n\u001b[1;32m    601\u001b[0m \u001b[0;34m\u001b[0m\u001b[0m\n\u001b[1;32m    602\u001b[0m \u001b[0;34m\u001b[0m\u001b[0m\n\u001b[0;32m--> 603\u001b[0;31m \u001b[0mOsi_getNumCols\u001b[0m \u001b[0;34m=\u001b[0m \u001b[0mcbclib\u001b[0m\u001b[0;34m.\u001b[0m\u001b[0mOsi_getNumCols\u001b[0m\u001b[0;34m\u001b[0m\u001b[0;34m\u001b[0m\u001b[0m\n\u001b[0m\u001b[1;32m    604\u001b[0m \u001b[0mOsi_getColSolution\u001b[0m \u001b[0;34m=\u001b[0m \u001b[0mcbclib\u001b[0m\u001b[0;34m.\u001b[0m\u001b[0mOsi_getColSolution\u001b[0m\u001b[0;34m\u001b[0m\u001b[0;34m\u001b[0m\u001b[0m\n\u001b[1;32m    605\u001b[0m \u001b[0mOsi_getIntegerTolerance\u001b[0m \u001b[0;34m=\u001b[0m \u001b[0mcbclib\u001b[0m\u001b[0;34m.\u001b[0m\u001b[0mOsi_getIntegerTolerance\u001b[0m\u001b[0;34m\u001b[0m\u001b[0;34m\u001b[0m\u001b[0m\n",
      "\u001b[0;31mNameError\u001b[0m: name 'cbclib' is not defined"
     ]
    }
   ],
   "source": [
    "from mip import Model, xsum, maximize, BINARY\n",
    "\n",
    "p = [10, 13, 18, 31, 7, 15]\n",
    "w = [11, 15, 20, 35, 10, 33]\n",
    "c, I = 47, range(len(w))\n",
    "\n",
    "m = Model(\"knapsack\")\n",
    "\n",
    "x = [m.add_var(var_type=BINARY) for i in I]\n",
    "\n",
    "m.objective = maximize(xsum(p[i] * x[i] for i in I))\n",
    "\n",
    "m += xsum(w[i] * x[i] for i in I) <= c\n",
    "\n",
    "m.optimize(solver=GLPK(msg=True))\n",
    "\n",
    "selected = [i for i in I if x[i].x >= 0.99]\n",
    "print(\"selected items: {}\".format(selected))\n"
   ]
  },
  {
   "cell_type": "code",
   "execution_count": null,
   "metadata": {},
   "outputs": [],
   "source": []
  }
 ],
 "metadata": {
  "kernelspec": {
   "display_name": "Python 3",
   "language": "python",
   "name": "python3"
  },
  "language_info": {
   "codemirror_mode": {
    "name": "ipython",
    "version": 3
   },
   "file_extension": ".py",
   "mimetype": "text/x-python",
   "name": "python",
   "nbconvert_exporter": "python",
   "pygments_lexer": "ipython3",
   "version": "3.8.10"
  }
 },
 "nbformat": 4,
 "nbformat_minor": 4
}