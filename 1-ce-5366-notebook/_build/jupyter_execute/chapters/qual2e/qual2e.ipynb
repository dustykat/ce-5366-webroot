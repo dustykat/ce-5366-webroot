{
 "cells": [
  {
   "cell_type": "markdown",
   "metadata": {},
   "source": [
    "# QUAL2\n",
    "\n",
    "## QUAL2 On-Line\n",
    "\n",
    "QUAL2 on-line is a server-side implementation of QUAL2 compiled from original source, with a crude browser interface to upload input files, and run instances.  \n",
    "\n",
    "### Running a QUAL2 model\n",
    "\n",
    "To run a model, the directory must exist and be populated with the needed input files."
   ]
  }
 ],
 "metadata": {
  "kernelspec": {
   "display_name": "Python 3",
   "language": "python",
   "name": "python3"
  },
  "language_info": {
   "codemirror_mode": {
    "name": "ipython",
    "version": 3
   },
   "file_extension": ".py",
   "mimetype": "text/x-python",
   "name": "python",
   "nbconvert_exporter": "python",
   "pygments_lexer": "ipython3",
   "version": "3.8.10"
  }
 },
 "nbformat": 4,
 "nbformat_minor": 5
}