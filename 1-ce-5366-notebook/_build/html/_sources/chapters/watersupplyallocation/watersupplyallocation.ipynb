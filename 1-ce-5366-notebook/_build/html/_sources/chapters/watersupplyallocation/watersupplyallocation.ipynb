{
 "cells": [
  {
   "cell_type": "markdown",
   "metadata": {},
   "source": [
    "# Water Supply Allocation under Uncertainty\n",
    "\n",
    "Introduction of uncertainty into an allocation problem creates a stochastic programming situation. There are a variety of methods to address stochastic programming, the next two examples illustrate a case where the problem is linear enough for a linear programming solution. Using LP for stochastic problems results in a large increase in the number of variables and constraints to account for alternative scenarios or in the use of chance constraints. These two approaches are explored in this chapter and the next – in this chapter we will examine two-stage linear programming by means of a simple example. The example will be repeated in the next chapter using a concept called \"chance constraints\"."
   ]
  },
  {
   "cell_type": "markdown",
   "metadata": {},
   "source": [
    "A water master for a region can divert water from an unregulated stream to three\n",
    "consumers: a municipality, an industrial concern, and an agricultural concern. A\n",
    "schematic of the system is shown in the sketch below:\n",
    "\n",
    "![](diversionsketch.png)"
   ]
  },
  {
   "cell_type": "markdown",
   "metadata": {},
   "source": [
    "The industrial and agricultural concern are expanding and would like to know how\n",
    "much water they can expect. If the water supply is insufficient, the expansion plans\n",
    "will be curtailed.\n",
    "\n",
    "The unregulated streamflow is a random variable, and the goal of the water master\n",
    "is to maximize benefit to the water supply authority.\n",
    "Let $T_i$ represent the contracted quantity of water the supplier will deliver to each\n",
    "user $i$ (there are three in this example). If the water is delivered, the resulting net benefits to the local economy are\n",
    "estimated to be $NB_i$. However, if the water is not delivered, water must be obtained from an alternate source, or demand must be curtailed by rationing of the municipal users, reduced production by industrial users, or reduced irrigation by the agricultural users. Such deficits reduce the net benefits to user $i$ by a cost $C_i$ per unit of water not supplied. Each user can provide the water master with an estimate of the maximum amount of water they can use, $T_{max}$."
   ]
  },
  {
   "cell_type": "markdown",
   "metadata": {},
   "source": [
    "$Q$, the total water available, is a random variable described by some probability\n",
    "distribution. The water master’s goal is to maximize the expected net benefit to the\n",
    "region by allocating water to the three users.\n",
    "\n",
    "## Linear Programming Model Framework\n",
    "\n",
    "Let the deficit for a delivery be denoted by the variable $D_{i,j}$ , where the $i$ subscript\n",
    "refers to a particular user, and the $j$ subscript refers to the particular random supply scenario.\n",
    "The water masters allocation problem is then to maximize expected benefit. Recall\n",
    "an expected cost (or benefit) is the product of the probability of an outcome and the value (cost) of the outcome.\n",
    "In this example the benefits of the deliveries is assured (probability = 1), but the costs of the deficits are stochastic, hence the benefit function is:\n",
    "\n",
    "$$ NB = NB_{1} \\cdot T_{1} + NB_{2} \\cdot T_{2} + NB_{3} \\cdot T_{3} - E(C_{1} \\cdot D_{1,Q} + C_{2} \\cdot D_{2,Q} + C_{3} \\cdot D_{3,Q})$$\n",
    "\n",
    "The constraints that are imposed are:\n",
    "\n",
    "$$ T_1 + T_2 + T_3 - [D_{1,Q} + D_{2,Q} + D_{3,Q}] \\le Q$$\n",
    "\n",
    "$$ 0 \\le T_i - D_{i,Q} \\le T_i^{max} $$\n",
    "\n"
   ]
  },
  {
   "cell_type": "markdown",
   "metadata": {},
   "source": [
    "## Approximating the Random Variable\n",
    "\n",
    "To approximate the value of the expectation, we can approximate the distribution of\n",
    "Q with a discrete distribution as in the sketch below. For a continuous distribution, some\n",
    "kind of discretization will be required to keep the LP manageable.\n",
    "\n",
    "![](flowprob.png)\n",
    "\n",
    "We can obtain such an approximation by analysing the supply streamflow and use the [flow-duration curve](https://pubs.er.usgs.gov/publication/wsp1542A) to postulate probability mass values for different flow rates (annualized or at least seasonalized).\n",
    "\n",
    "The approximation allows the estimation of the expected cost (of failed delivery) to be manifest in the objective function, and the supply availability in the constraint set. The model in this instance (3 customers, 3 possible supply rates) has a total of 12 decision variables; the three contracted deliveries and nine deficits (from the 3\n",
    "possible supply rates).\n",
    "\n",
    "The cost function becomes:\n",
    "$$ NB = NB_{1} \\cdot T_{1} + NB_{2} \\cdot T_{2} + NB_{3} \\cdot T_{3} ~~~~~ \\\\ - p_1(C_{1} \\cdot D_{1,q_1} + C_{2} \\cdot D_{2,q_1} + C_{3} \\cdot D_{3,q_1}) \\\\ -p_2(C_{1} \\cdot D_{1,q_2} + C_{2} \\cdot D_{2,q_2} + C_{3} \\cdot D_{3,q_2}) \\\\- p_3(C_{1} \\cdot D_{1,q_3} + C_{2} \\cdot D_{2,q_3} + C_{3} \\cdot D_{3,q_3})$$\n",
    "The constraint set becomes:\n",
    "\n",
    "![](constraintset.png)\n",
    "\n",
    "The solution to this LP model would provide the water master with the optimal allocation of contracted (promised delivery) as well as an estimate (implicit in the solution) of the resource allocations to make when supply is insufficient.\n",
    "\n",
    ":::{note}\n",
    "The deliveries are actually fixed, the deficits are dependent on the flow state, if the expected failures are too large (too likely) we would want to renegotiate the contracts.\n",
    ":::"
   ]
  },
  {
   "cell_type": "markdown",
   "metadata": {},
   "source": [
    "## Technological and Probability Values\n",
    "\n",
    "Assume for this example that the table below contains the unit benefits and unit penalty costs for the three uses and the maximum value that each user can assimilate.\n",
    "\n",
    "|User|Index $i$|$$NB_i$$|$C_i$|$$T_i^{max}$$|\n",
    "|---|-------|---|---|---:|\n",
    "|Municipal|1|2|100|250|\n",
    "|Industrial|2|3|50|75|\n",
    "|Agricultural|3|5|30|60|\n",
    "\n",
    "\n",
    "The streamflow flow-state distribution for the region (inferred from a flow duration curve) is.\n",
    "\n",
    "|Flow State $j$| Value $q_j$ | Probability $p_j$ |\n",
    "|---|---|---|\n",
    "|1| 4| 0.20|\n",
    "|2| 10| 0.60|\n",
    "|3| 17| 0.20|\n",
    "\n",
    "The values in these two tables are inserted into their representative locations in the\n",
    "linear program structure (cost function and constraint set). Once these values are\n",
    "supplied, then we have the necessary set-up for a Linear Program and can apply our\n",
    "tools to its solution. So the linear program to be solved is depicted below\n",
    "\n",
    "![](linearP.png)\n",
    "\n",
    "## Linear Programming Model Solution\n",
    "\n",
    "To solve the LP we need to translate the framework into a structure\n",
    "for our solver tool to process. The process to solve the problem is to\n",
    "build the cost function weights, then the constraint matrix coefficients, then the right\n",
    "hand side, and finally the sense of the constraints. Once these are built, the objects\n",
    "can be sent to the program for a solution.\n",
    "For this example, the cost function unit values are hand-entered and the probabilities\n",
    "are stored in a separate vector. The coefficient for the cost function is created by\n",
    "element-by-element multiplication of the two vectors. The result is what will be sent\n",
    "to the LP solver algorithm.\n",
    "The coefficient matrix is constructed row-wise, again by hand. The right-hand-side\n",
    "matrix is also hand constructed. The sense of the inequalities is constructed semi-\n",
    "automatically by taking advantage of how the tableau is structured. Finally all the\n",
    "elements are sent to the algorithm as shown in Listing 18 builds and solves the example\n",
    "problem."
   ]
  },
  {
   "cell_type": "code",
   "execution_count": 174,
   "metadata": {},
   "outputs": [],
   "source": [
    "import numpy\n",
    "NB1=100.0\n",
    "NB2=50.0\n",
    "NB3=30.0\n",
    "C1=250.0\n",
    "C2=75.0\n",
    "C3=60.0\n",
    "p1=0.20\n",
    "p2=0.60\n",
    "p3=0.20\n",
    "q1=4.0\n",
    "q2=10.0\n",
    "q3=17.0\n",
    "# build a cost coefficient vector\n",
    "cost = [NB1,NB2,NB3,-C1,-C2,-C3,-C1,-C2,-C3,-C1,-C2,-C3]  #cost coefficient vector \n",
    "prob = [1 ,1 ,1 ,0.2 ,0.2 ,0.2 ,0.6 ,0.6 ,0.6 ,0.2 ,0.2 ,0.2] #probability mass vector - the ones are for the Target deliveries\n",
    "prices = numpy.array(cost)*numpy.array(prob) # this is our cost coefficient vector\n",
    "# build the constraint set\n",
    "# Build the constraint RHS vector (SciPy uses less-than for inequality)\n",
    "#\n",
    "# constraint matrix\n",
    "constraint = numpy.array([[0 for irow in range(12)] for jcol in range(21)]) ;\n",
    "# manual build by row\n",
    "constraint [0][:] = [1 ,1 ,1 , -1 , -1 , -1 ,0 ,0 ,0 ,0 ,0 ,0]\n",
    "constraint [1][:] = [1 ,1 ,1 ,0 ,0 ,0 , -1 , -1 , -1 ,0 ,0 ,0]\n",
    "constraint [2][:] = [1 ,1 ,1 ,0 ,0 ,0 ,0 ,0 ,0 , -1 , -1 , -1]\n",
    "constraint [3][:] = [1 ,0 ,0 , -1 ,0 ,0 ,0 ,0 ,0 ,0 ,0 ,0]\n",
    "constraint [4][:] = [0 ,1 ,0 ,0 , -1 ,0 ,0 ,0 ,0 ,0 ,0 ,0]\n",
    "constraint [5][:] = [0 ,0 ,1 ,0 ,0 , -1 ,0 ,0 ,0 ,0 ,0 ,0]\n",
    "constraint [6][:] = [1 ,0 ,0 ,0 ,0 ,0 , -1 ,0 ,0 ,0 ,0 ,0]\n",
    "constraint [7][:] = [0 ,1 ,0 ,0 ,0 ,0 ,0 , -1 ,0 ,0 ,0 ,0]\n",
    "constraint [8][:] = [0 ,0 ,1 ,0 ,0 ,0 ,0 ,0 , -1 ,0 ,0 ,0]\n",
    "constraint [9][:] = [1 ,0 ,0 ,0 ,0 ,0 ,0 ,0 ,0 , -1 ,0 ,0]\n",
    "constraint [10][:] = [0 ,1 ,0 ,0 ,0 ,0 ,0 ,0 ,0 ,0 , -1 ,0]\n",
    "constraint [11][:] = [0 ,0 ,1 ,0 ,0 ,0 ,0 ,0 ,0 ,0 ,0 , -1]\n",
    "\n",
    "constraint [12][:] = [1 ,0 ,0 , -1 ,0 ,0 ,0 ,0 ,0 ,0 ,0 ,0]\n",
    "constraint [13][:] = [0 ,1 ,0 ,0 , -1 ,0 ,0 ,0 ,0 ,0 ,0 ,0]\n",
    "constraint [14][:] = [0 ,0 ,1 ,0 ,0 , -1 ,0 ,0 ,0 ,0 ,0 ,0]\n",
    "constraint [15][:] = [1 ,0 ,0 ,0 ,0 ,0 ,-1 ,0 ,0 ,0 ,0 ,0]\n",
    "constraint [16][:] = [0 ,1 ,0 ,0 ,0 ,0 ,0 , -1 ,0 ,0 ,0 ,0]\n",
    "constraint [17][:] = [0 ,0 ,1 ,0 ,0 ,0 ,0 ,0 , -1 ,0 ,0 ,0]\n",
    "constraint [18][:] = [1 ,0 ,0 ,0 ,0 ,0 ,0 ,0 ,0 , -1 ,0 ,0]\n",
    "constraint [19][:] = [0 ,1 ,0 ,0 ,0 ,0 ,0 ,0 ,0 ,0 , -1 ,0]\n",
    "constraint [20][:] = [0 ,0 ,1 ,0 ,0 ,0 ,0 ,0 ,0 ,0 ,0 , -1]\n",
    "\n",
    "        \n",
    "rhs = [4 ,10 ,14 ,2 ,3 ,5 ,2 ,3 ,5 ,2 ,3 ,5 ,0 ,0 ,0 ,0 ,0 ,0 ,0 ,0 ,0]\n",
    "#  Change sense of greater-than constraints, so change sign \n",
    "for irow in range(12,21):\n",
    "    rhs[irow]=-1.0*rhs[irow]\n",
    "    for jcol in range(12):\n",
    "        constraint[irow][jcol]=-1.0*constraint[irow][jcol]\n",
    "\n",
    "# Change sense of prices (solver minimizes only)\n",
    "for jcol in range(12):\n",
    "    prices[jcol]=-1.0*prices[jcol]"
   ]
  },
  {
   "cell_type": "code",
   "execution_count": 175,
   "metadata": {},
   "outputs": [],
   "source": [
    "from scipy.optimize import linprog # load the package"
   ]
  },
  {
   "cell_type": "code",
   "execution_count": 176,
   "metadata": {},
   "outputs": [
    {
     "data": {
      "text/plain": [
       "array([[ 1,  1,  1, -1, -1, -1,  0,  0,  0,  0,  0,  0],\n",
       "       [ 1,  1,  1,  0,  0,  0, -1, -1, -1,  0,  0,  0],\n",
       "       [ 1,  1,  1,  0,  0,  0,  0,  0,  0, -1, -1, -1],\n",
       "       [ 1,  0,  0, -1,  0,  0,  0,  0,  0,  0,  0,  0],\n",
       "       [ 0,  1,  0,  0, -1,  0,  0,  0,  0,  0,  0,  0],\n",
       "       [ 0,  0,  1,  0,  0, -1,  0,  0,  0,  0,  0,  0],\n",
       "       [ 1,  0,  0,  0,  0,  0, -1,  0,  0,  0,  0,  0],\n",
       "       [ 0,  1,  0,  0,  0,  0,  0, -1,  0,  0,  0,  0],\n",
       "       [ 0,  0,  1,  0,  0,  0,  0,  0, -1,  0,  0,  0],\n",
       "       [ 1,  0,  0,  0,  0,  0,  0,  0,  0, -1,  0,  0],\n",
       "       [ 0,  1,  0,  0,  0,  0,  0,  0,  0,  0, -1,  0],\n",
       "       [ 0,  0,  1,  0,  0,  0,  0,  0,  0,  0,  0, -1],\n",
       "       [-1,  0,  0,  1,  0,  0,  0,  0,  0,  0,  0,  0],\n",
       "       [ 0, -1,  0,  0,  1,  0,  0,  0,  0,  0,  0,  0],\n",
       "       [ 0,  0, -1,  0,  0,  1,  0,  0,  0,  0,  0,  0],\n",
       "       [-1,  0,  0,  0,  0,  0,  1,  0,  0,  0,  0,  0],\n",
       "       [ 0, -1,  0,  0,  0,  0,  0,  1,  0,  0,  0,  0],\n",
       "       [ 0,  0, -1,  0,  0,  0,  0,  0,  1,  0,  0,  0],\n",
       "       [-1,  0,  0,  0,  0,  0,  0,  0,  0,  1,  0,  0],\n",
       "       [ 0, -1,  0,  0,  0,  0,  0,  0,  0,  0,  1,  0],\n",
       "       [ 0,  0, -1,  0,  0,  0,  0,  0,  0,  0,  0,  1]])"
      ]
     },
     "execution_count": 176,
     "metadata": {},
     "output_type": "execute_result"
    }
   ],
   "source": [
    "myoptions=dict({\"maxiter\":1000,\"tol\": 1e-9,\"autoscale\":False})\n",
    "#myoptions\n",
    "#prices\n",
    "constraint"
   ]
  },
  {
   "cell_type": "code",
   "execution_count": 177,
   "metadata": {},
   "outputs": [],
   "source": [
    "bnd = [(0, 20) for i in range(12)] # set bounds 0-infnty"
   ]
  },
  {
   "cell_type": "code",
   "execution_count": 178,
   "metadata": {},
   "outputs": [],
   "source": [
    "opt = linprog(c=prices, A_ub=constraint, b_ub=rhs, bounds=bnd, method=\"interior-point\",options=myoptions)\n",
    "#opt"
   ]
  },
  {
   "cell_type": "code",
   "execution_count": 179,
   "metadata": {},
   "outputs": [
    {
     "name": "stdout",
     "output_type": "stream",
     "text": [
      "Optimal Solution Found\n",
      "Cost :  425.0\n",
      "Target Delivery 1  =  2.0\n",
      "Target Delivery 2  =  3.0\n",
      "Target Delivery 3  =  5.0\n",
      "Streamflow State 1\n",
      "Defecit Delivery 1  =  0.0\n",
      "Defecit Delivery 2  =  1.0\n",
      "Defecit Delivery 3  =  5.0\n",
      "Streamflow State 2\n",
      "Defecit Delivery 1  =  0.0\n",
      "Defecit Delivery 2  =  0.0\n",
      "Defecit Delivery 3  =  0.0\n",
      "Streamflow State 3\n",
      "Defecit Delivery 1  =  0.0\n",
      "Defecit Delivery 2  =  0.0\n",
      "Defecit Delivery 3  =  0.0\n"
     ]
    }
   ],
   "source": [
    "# check for solution\n",
    "if opt.status == 0:\n",
    "    print('Optimal Solution Found')\n",
    "    print('Cost : ',-1.0*round(opt.fun,2))\n",
    "    sum = 0.0\n",
    "    irow=0\n",
    "    for i in range(3):\n",
    "        print('Target Delivery',irow+1,' = ',round(opt.x[i],3))\n",
    "        irow=irow+1\n",
    "\n",
    "    print(\"Streamflow State 1\")\n",
    "    irow=0\n",
    "    for i in range(3,6):\n",
    "        print('Defecit Delivery',irow+1,' = ',round(opt.x[i],3))\n",
    "        irow=irow+1\n",
    "    print(\"Streamflow State 2\")\n",
    "    irow=0\n",
    "    for i in range(6,9):\n",
    "        print('Defecit Delivery',irow+1,' = ',round(opt.x[i],3))\n",
    "        irow=irow+1\n",
    "        \n",
    "    print(\"Streamflow State 3\")\n",
    "    irow=0\n",
    "    for i in range(9,12):\n",
    "        print('Defecit Delivery',irow+1,' = ',round(opt.x[i],3))\n",
    "        irow=irow+1\n"
   ]
  },
  {
   "cell_type": "markdown",
   "metadata": {},
   "source": [
    "Once the script run, the output then needs to be interpreted - in the example above, the output is parsed using scripting and our knowledge of the problem structure.\n",
    "\n",
    "The optimal solution is to contract deliveries to each user at the full amount they request. The expected net benefit is 425 benefit units. There is a 20% chance that users 2 and 3 will have deficits and the water master will incur costs. There is an 80% chance that all users will get their contracted water, and a 20% chance that there will be excess water available. If the system had storage the 20% excess cases could be used to help satisfy the one case when the system does not have enough input.\n",
    "\n",
    ":::{note}\n",
    "Hmmm have just justified dam building!\n",
    ":::\n",
    "\n",
    "A useful collateral result is that when the water input is too small to satisfy all the contracts, the solution also suggests how to make the allocations in the limited case – the municipal users are supplied their full amount, industry receives the remainder of the available water (and incurs a deficit of 1 unit), and agriculture is denied its entire request. The allocations would change if the unit benefits reflected the value of the water differently to the three users and/or the deficit costs changed.\n",
    "\n",
    "## Exercises\n",
    "1. Determine the required penalty to ensure at least 1 unit of water is delivered to the agricultural sector Interpret the results of your solution.\n",
    "2. Suppose there is a fourth user, the in-stream requirement to ensure health of the stream itself. If the in-stream requirement is 1 flow unit, how does the allocation change for the original problem and for the cost-incentivized agricultural adjustment? Document the new LP to accommodate the 4th user.\n",
    "\n",
    ":::{note}\n",
    "The objective function is cast in a penalty-function structure, and can be used to determine\n",
    "costs to assign to produce economically influenced results.  \n",
    ":::"
   ]
  },
  {
   "cell_type": "code",
   "execution_count": null,
   "metadata": {},
   "outputs": [],
   "source": []
  }
 ],
 "metadata": {
  "kernelspec": {
   "display_name": "Python 3",
   "language": "python",
   "name": "python3"
  },
  "language_info": {
   "codemirror_mode": {
    "name": "ipython",
    "version": 3
   },
   "file_extension": ".py",
   "mimetype": "text/x-python",
   "name": "python",
   "nbconvert_exporter": "python",
   "pygments_lexer": "ipython3",
   "version": "3.8.10"
  }
 },
 "nbformat": 4,
 "nbformat_minor": 4
}
