{
 "cells": [
  {
   "cell_type": "code",
   "execution_count": 1,
   "metadata": {},
   "outputs": [],
   "source": [
    "def myobj(x1,x2):\n",
    "    myobj = (120-5*12)*x1 + (80-3*12)*x2\n",
    "    return myobj"
   ]
  },
  {
   "cell_type": "code",
   "execution_count": 2,
   "metadata": {},
   "outputs": [],
   "source": [
    "def con1(x1,x2):\n",
    "    # con1 >= 0 is feasible\n",
    "    con1 = x1+x2 - 1000\n",
    "    return con1\n",
    "def con2(x1,x2):\n",
    "    # con2 >=0 is feasible\n",
    "    con2 = 8000 - 5*x1 -3*x2\n",
    "    return con2"
   ]
  },
  {
   "cell_type": "code",
   "execution_count": 3,
   "metadata": {},
   "outputs": [
    {
     "name": "stdout",
     "output_type": "stream",
     "text": [
      "Substance A produced =  500\n",
      "Substance B produced =  500\n",
      "Objective Function Value =  52000\n",
      "Minimun Production Constraint =  0\n",
      "Maximum Labor Budget =  4000\n",
      "Solution is FEASIBLE\n"
     ]
    }
   ],
   "source": [
    "def mymodel(x1,x2):\n",
    "    objvalue = myobj(x1,x2)\n",
    "    constraint1 = con1(x1,x2)\n",
    "    constraint2 = con2(x1,x2)\n",
    "# print current results\n",
    "    print(\"Substance A produced = \",x1)\n",
    "    print(\"Substance B produced = \",x2)\n",
    "    print(\"Objective Function Value = \",objvalue)\n",
    "    print(\"Minimun Production Constraint = \",constraint1)\n",
    "    print(\"Maximum Labor Budget = \",constraint2)\n",
    "    if constraint1 < 0 or constraint2 < 0 or x1 < 0 or x2 <0:\n",
    "        print(\"Solution is INFEASIBLE\")\n",
    "    else:\n",
    "        print(\"Solution is FEASIBLE\")\n",
    "    return\n",
    "x1=500\n",
    "x2=500\n",
    "mymodel(x1,x2)"
   ]
  },
  {
   "cell_type": "code",
   "execution_count": 4,
   "metadata": {},
   "outputs": [
    {
     "name": "stdout",
     "output_type": "stream",
     "text": [
      "Substance A produced =  500\n",
      "Substance B produced =  1833\n",
      "Objective Function Value =  110652\n",
      "Minimun Production Constraint =  1333\n",
      "Maximum Labor Budget =  1\n",
      "Solution is FEASIBLE\n"
     ]
    }
   ],
   "source": [
    "x1=500\n",
    "x2=1833\n",
    "mymodel(x1,x2)"
   ]
  },
  {
   "cell_type": "code",
   "execution_count": 5,
   "metadata": {},
   "outputs": [],
   "source": [
    "def mymodel(x1,x2):\n",
    "    objvalue = myobj(x1,x2)\n",
    "    constraint1 = con1(x1,x2)\n",
    "    constraint2 = con2(x1,x2)\n",
    "# print current results\n",
    "#    print(\"Substance A produced = \",x1)\n",
    "#    print(\"Substance B produced = \",x2)\n",
    "#    print(\"Objective Function Value = \",objvalue)\n",
    "#    print(\"Minimun Production Constraint = \",constraint1)\n",
    "#    print(\"Maximum Labor Budget = \",constraint2)\n",
    "    if constraint1 < 0 or constraint2 < 0 or x1 < 0 or x2 < 0:\n",
    "#        print(\"Solution is INFEASIBLE\")\n",
    "        returncode = 0\n",
    "    else:\n",
    "#       print(\"Solution is FEASIBLE\")\n",
    "        returncode = 1\n",
    "    return (objvalue,returncode) # return a tuple"
   ]
  },
  {
   "cell_type": "code",
   "execution_count": 6,
   "metadata": {},
   "outputs": [
    {
     "name": "stdout",
     "output_type": "stream",
     "text": [
      "Search complete  9000000  Total Combinations\n",
      "Found  1668 feasible solutions \n",
      " --- Best Solution ---\n",
      "Substance A produced =  1.0\n",
      "Substance B produced =  2665.0\n",
      "Objective Function Value =  117320.0\n",
      "Production Above Minimum =  1666.0\n",
      "Labor Budget Remaining =  0.0\n"
     ]
    }
   ],
   "source": [
    "Avector = [] # empty list to store values of A\n",
    "Bvector = [] # empty list to store values of B\n",
    "howmany = 0\n",
    "for i in range(3000):\n",
    "    Avector.append(float(i))\n",
    "    Bvector.append(float(i))\n",
    "# now the actual search\n",
    "big = -1 # a negative value, revenue needs to be positive\n",
    "xbest = -1 # variables to store our best solution\n",
    "ybest = -1\n",
    "feasible = 0\n",
    "for ix1 in range(3000):\n",
    "    for ix2 in range(3000):\n",
    "        howmany = howmany+1\n",
    "        result = mymodel(Avector[ix1],Bvector[ix2])\n",
    "        if result[1] == 1:\n",
    "            if result[0] > big:\n",
    "                feasible = feasible + 1\n",
    "                big = result[0]\n",
    "                xbest = Avector[ix1]\n",
    "                ybest = Bvector[ix2]\n",
    "\n",
    "print(\"Search complete \",howmany,\" Total Combinations\")\n",
    "print(\"Found \",feasible, \"feasible solutions \\n --- Best Solution ---\")\n",
    "print(\"Substance A produced = \",xbest)\n",
    "print(\"Substance B produced = \",ybest)\n",
    "print(\"Objective Function Value = \",big)\n",
    "print(\"Production Above Minimum = \",con1(xbest,ybest))\n",
    "print(\"Labor Budget Remaining = \",con2(xbest,ybest))        "
   ]
  }
 ],
 "metadata": {
  "kernelspec": {
   "display_name": "Python 3 (ipykernel)",
   "language": "python",
   "name": "python3"
  },
  "language_info": {
   "codemirror_mode": {
    "name": "ipython",
    "version": 3
   },
   "file_extension": ".py",
   "mimetype": "text/x-python",
   "name": "python",
   "nbconvert_exporter": "python",
   "pygments_lexer": "ipython3",
   "version": "3.8.10"
  }
 },
 "nbformat": 4,
 "nbformat_minor": 4
}