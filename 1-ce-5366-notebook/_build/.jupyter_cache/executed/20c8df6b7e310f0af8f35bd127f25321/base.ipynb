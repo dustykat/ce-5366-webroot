{
 "cells": [
  {
   "cell_type": "code",
   "execution_count": 1,
   "metadata": {},
   "outputs": [],
   "source": [
    "from scipy.optimize import linprog"
   ]
  },
  {
   "cell_type": "code",
   "execution_count": 2,
   "metadata": {},
   "outputs": [],
   "source": [
    "obj = [-1, -2]\n",
    "lhs_ineq = [[ 2,  1],  # Red constraint left side\n",
    "[-4,  5],  # Blue constraint left side\n",
    "[ 1, -2]]  # Yellow constraint left side\n",
    "\n",
    "rhs_ineq = [20,  # Red constraint right side\n",
    "10,  # Blue constraint right side\n",
    "2]  # Yellow constraint right side\n",
    "\n",
    "lhs_eq = [[-1, 5]]  # Green constraint left side\n",
    "rhs_eq = [15]       # Green constraint right side"
   ]
  },
  {
   "cell_type": "code",
   "execution_count": 3,
   "metadata": {},
   "outputs": [],
   "source": [
    "bnd = [(0, float(\"inf\")),  # Bounds of x\n",
    "(0, float(\"inf\"))]  # Bounds of y"
   ]
  },
  {
   "cell_type": "code",
   "execution_count": 4,
   "metadata": {},
   "outputs": [
    {
     "data": {
      "text/plain": [
       "     con: array([1.77635684e-15])\n",
       "     fun: -16.818181818181817\n",
       " message: 'Optimization terminated successfully.'\n",
       "     nit: 3\n",
       "   slack: array([ 0.        , 18.18181818,  3.36363636])\n",
       "  status: 0\n",
       " success: True\n",
       "       x: array([7.72727273, 4.54545455])"
      ]
     },
     "execution_count": 4,
     "metadata": {},
     "output_type": "execute_result"
    }
   ],
   "source": [
    "opt = linprog(c=obj, A_ub=lhs_ineq, b_ub=rhs_ineq,\n",
    "...               A_eq=lhs_eq, b_eq=rhs_eq, bounds=bnd,\n",
    "...               method=\"revised simplex\")\n",
    "opt"
   ]
  },
  {
   "cell_type": "code",
   "execution_count": 5,
   "metadata": {
    "jupyter": {
     "source_hidden": true
    }
   },
   "outputs": [
    {
     "name": "stdout",
     "output_type": "stream",
     "text": [
      "Variable Indices: ['11', '12', '13', '14', '21', '22', '23', '24']\n",
      "Decision Variable/Allocation Matrix: \n",
      "[[X_11 X_12 X_13 X_14]\n",
      " [X_21 X_22 X_23 X_24]]\n",
      "X_11 + 3.0*X_12 + 0.5*X_13 + 4.0*X_14 + 2.5*X_21 + 5.0*X_22 + 1.5*X_23 + 2.5*X_24\n",
      "Supply-Demand-Problem:\n",
      "MINIMIZE\n",
      "1.0*X_11 + 3.0*X_12 + 0.5*X_13 + 4.0*X_14 + 2.5*X_21 + 5.0*X_22 + 1.5*X_23 + 2.5*X_24 + 0.0\n",
      "VARIABLES\n",
      "0 <= X_11 Integer\n",
      "0 <= X_12 Integer\n",
      "0 <= X_13 Integer\n",
      "0 <= X_14 Integer\n",
      "0 <= X_21 Integer\n",
      "0 <= X_22 Integer\n",
      "0 <= X_23 Integer\n",
      "0 <= X_24 Integer\n",
      "\n"
     ]
    }
   ],
   "source": [
    "from pulp import * # pulp needs to be installed into the kernel first\n",
    "import pandas as pd\n",
    "import numpy as np\n",
    "\n",
    "n_warehouses = 2\n",
    "n_customers = 4\n",
    "\n",
    "# Cost Matrix\n",
    "cost_matrix = np.array([[1, 3, 0.5, 4],\n",
    "                       [2.5, 5, 1.5, 2.5]])\n",
    "# Demand Matrix\n",
    "cust_demands = np.array([35000, 22000, 18000, 30000])\n",
    "\n",
    "# Supply Matrix\n",
    "warehouse_supply = np.array([60000, 80000])\n",
    "\n",
    "model = LpProblem(\"Supply-Demand-Problem\", LpMinimize)\n",
    "\n",
    "variable_names = [str(i)+str(j) for j in range(1, n_customers+1) for i in range(1, n_warehouses+1)]\n",
    "variable_names.sort()\n",
    "print(\"Variable Indices:\", variable_names)\n",
    "\n",
    "DV_variables = LpVariable.matrix(\"X\", variable_names, cat = \"Integer\", lowBound= 0 )\n",
    "allocation = np.array(DV_variables).reshape(2,4)\n",
    "print(\"Decision Variable/Allocation Matrix: \")\n",
    "print(allocation)\n",
    "\n",
    "obj_func = lpSum(allocation*cost_matrix)\n",
    "print(obj_func)\n",
    "model +=  obj_func\n",
    "print(model)"
   ]
  },
  {
   "cell_type": "code",
   "execution_count": 6,
   "metadata": {
    "jupyter": {
     "source_hidden": true
    }
   },
   "outputs": [
    {
     "name": "stdout",
     "output_type": "stream",
     "text": [
      "X_11 + X_12 + X_13 + X_14 <= 60000\n",
      "X_21 + X_22 + X_23 + X_24 <= 80000\n"
     ]
    }
   ],
   "source": [
    "#Supply Constraints\n",
    "for i in range(n_warehouses):\n",
    "    print(lpSum(allocation[i][j] for j in range(n_customers)) <= warehouse_supply[i])\n",
    "    model += lpSum(allocation[i][j] for j in range(n_customers)) <= warehouse_supply[i] , \"Supply Constraints \" + str(i)"
   ]
  },
  {
   "cell_type": "code",
   "execution_count": 7,
   "metadata": {
    "collapsed": true,
    "jupyter": {
     "outputs_hidden": true,
     "source_hidden": true
    }
   },
   "outputs": [
    {
     "name": "stdout",
     "output_type": "stream",
     "text": [
      "X_11 + X_21 >= 35000\n",
      "X_12 + X_22 >= 22000\n",
      "X_13 + X_23 >= 18000\n",
      "X_14 + X_24 >= 30000\n"
     ]
    }
   ],
   "source": [
    "# Demand Constraints\n",
    "for j in range(n_customers):\n",
    "    print(lpSum(allocation[i][j] for i in range(n_warehouses)) >= cust_demands[j])\n",
    "    model += lpSum(allocation[i][j] for i in range(n_warehouses)) >= cust_demands[j] , \"Demand Constraints \" + str(j)"
   ]
  },
  {
   "cell_type": "code",
   "execution_count": 8,
   "metadata": {},
   "outputs": [
    {
     "data": {
      "text/plain": [
       "[X_11, X_12, X_13, X_14, X_21, X_22, X_23, X_24]"
      ]
     },
     "execution_count": 8,
     "metadata": {},
     "output_type": "execute_result"
    }
   ],
   "source": [
    "model.writeMPS(\"Supply_demand_prob.lp\") # write problem set-up to a text file"
   ]
  },
  {
   "cell_type": "code",
   "execution_count": 9,
   "metadata": {
    "jupyter": {
     "source_hidden": true
    }
   },
   "outputs": [
    {
     "name": "stdout",
     "output_type": "stream",
     "text": [
      "Optimal\n"
     ]
    }
   ],
   "source": [
    "from pulp import GLPK # A working solver needs to be loaded explicit on ARM!\n",
    "\n",
    "#model.solve()\n",
    "\n",
    "model.solve(solver=GLPK(msg=True))\n",
    "\n",
    "status =  LpStatus[model.status]\n",
    "\n",
    "print(status)"
   ]
  },
  {
   "cell_type": "code",
   "execution_count": 10,
   "metadata": {
    "collapsed": true,
    "jupyter": {
     "outputs_hidden": true,
     "source_hidden": true
    }
   },
   "outputs": [
    {
     "name": "stdout",
     "output_type": "stream",
     "text": [
      "Total Cost: 200000.0\n",
      "X_11 = 35000\n",
      "X_12 = 22000\n",
      "X_13 = 3000\n",
      "X_14 = 0\n",
      "X_21 = 0\n",
      "X_22 = 0\n",
      "X_23 = 15000\n",
      "X_24 = 30000\n"
     ]
    }
   ],
   "source": [
    "print(\"Total Cost:\", model.objective.value())\n",
    "\n",
    "# Decision Variables\n",
    "\n",
    "for v in model.variables():\n",
    "    try:\n",
    "        print(v.name,\"=\", v.value())\n",
    "    except:\n",
    "        print(\"error couldnt find value\")"
   ]
  },
  {
   "cell_type": "code",
   "execution_count": 11,
   "metadata": {
    "jupyter": {
     "source_hidden": true
    }
   },
   "outputs": [
    {
     "name": "stdout",
     "output_type": "stream",
     "text": [
      "Warehouse  1\n",
      "60000\n",
      "Warehouse  2\n",
      "45000\n"
     ]
    }
   ],
   "source": [
    "# Warehouse 1 and Warehouse 2 required capacity\n",
    "\n",
    "for i in range(n_warehouses):\n",
    "    print(\"Warehouse \", str(i+1))\n",
    "    print(lpSum(allocation[i][j].value() for j in range(n_customers)))"
   ]
  }
 ],
 "metadata": {
  "kernelspec": {
   "display_name": "Python 3",
   "language": "python",
   "name": "python3"
  },
  "language_info": {
   "codemirror_mode": {
    "name": "ipython",
    "version": 3
   },
   "file_extension": ".py",
   "mimetype": "text/x-python",
   "name": "python",
   "nbconvert_exporter": "python",
   "pygments_lexer": "ipython3",
   "version": "3.8.10"
  }
 },
 "nbformat": 4,
 "nbformat_minor": 4
}