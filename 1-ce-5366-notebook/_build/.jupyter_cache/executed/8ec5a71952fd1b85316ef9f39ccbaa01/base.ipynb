{
 "cells": [
  {
   "cell_type": "code",
   "execution_count": 1,
   "metadata": {},
   "outputs": [
    {
     "name": "stdout",
     "output_type": "stream",
     "text": [
      "Present Worth of 10 annual payments of $100 @ 3% interest is $ 853.02\n"
     ]
    }
   ],
   "source": [
    "# cash flow calculations\n",
    "discount_rate = 0.03 # 3% interest rate\n",
    "payments = [0,100,100,100,100,100,100,100,100,100,100]\n",
    "present_value = [0 for i in range(11)] # empty list\n",
    "for i in range(0,11):\n",
    "    present_value[i] = payments[i]*(1+discount_rate)**(-i)\n",
    "\n",
    "#add up all the present values\n",
    "print(\"Present Worth of 10 annual payments of $100 @ 3% interest is $\",round(sum(present_value),2))\n"
   ]
  }
 ],
 "metadata": {
  "kernelspec": {
   "display_name": "Python 3 (ipykernel)",
   "language": "python",
   "name": "python3"
  },
  "language_info": {
   "codemirror_mode": {
    "name": "ipython",
    "version": 3
   },
   "file_extension": ".py",
   "mimetype": "text/x-python",
   "name": "python",
   "nbconvert_exporter": "python",
   "pygments_lexer": "ipython3",
   "version": "3.8.10"
  }
 },
 "nbformat": 4,
 "nbformat_minor": 4
}