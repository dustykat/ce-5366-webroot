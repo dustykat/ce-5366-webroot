{
 "cells": [
  {
   "cell_type": "code",
   "execution_count": 1,
   "metadata": {},
   "outputs": [
    {
     "name": "stdout",
     "output_type": "stream",
     "text": [
      "Optimization terminated successfully.\n",
      "         Current function value: 0.000066\n",
      "         Iterations: 141\n",
      "         Function evaluations: 243\n",
      "[0.99910115 0.99820923 0.99646346 0.99297555 0.98600385]\n"
     ]
    }
   ],
   "source": [
    "import numpy as np\n",
    "from scipy.optimize import minimize\n",
    "\n",
    "def rosen(x):\n",
    "    \"\"\"The Rosenbrock function\"\"\"\n",
    "    return sum(100.0*(x[1:]-x[:-1]**2.0)**2.0 + (1-x[:-1])**2.0)\n",
    "\n",
    "x0 = np.array([1.3, 0.7, 0.8, 1.9, 1.2])\n",
    "res = minimize(rosen, x0, method='nelder-mead',options={'disp': True})\n",
    "\n",
    "print(res.x)"
   ]
  },
  {
   "cell_type": "code",
   "execution_count": 2,
   "metadata": {},
   "outputs": [
    {
     "name": "stdout",
     "output_type": "stream",
     "text": [
      "Optimization terminated successfully.\n",
      "         Current function value: 0.000000\n",
      "         Iterations: 18\n",
      "         Function evaluations: 1084\n",
      "[1. 1. 1. 1. 1.]\n"
     ]
    }
   ],
   "source": [
    "import numpy as np\n",
    "from scipy.optimize import minimize\n",
    "\n",
    "def rosen(x):\n",
    "    \"\"\"The Rosenbrock function\"\"\"\n",
    "    return sum(100.0*(x[1:]-x[:-1]**2.0)**2.0 + (1-x[:-1])**2.0)\n",
    "\n",
    "x0 = np.array([1.3, 0.7, 0.8, 1.9, 1.2])\n",
    "res = minimize(rosen, x0, method='powell',options={'disp': True})\n",
    "\n",
    "print(res.x)"
   ]
  },
  {
   "cell_type": "code",
   "execution_count": 3,
   "metadata": {},
   "outputs": [
    {
     "name": "stdout",
     "output_type": "stream",
     "text": [
      "Optimization terminated successfully.\n",
      "         Current function value: -1.000000\n",
      "         Iterations: 3\n",
      "         Function evaluations: 97\n",
      "[1.         0.99999999]\n"
     ]
    }
   ],
   "source": [
    "def func(x): # same function in FORTRAN above\n",
    "    acc = (3./2.)*x[0]**2+(1./2.)*x[1]**2-x[0]*x[1]-2.*x[0]\n",
    "    return acc\n",
    "\n",
    "x0 = np.array([-2.0,4.0])\n",
    "res = minimize(func, x0, method='powell',options={'disp': True})\n",
    "\n",
    "print(res.x)"
   ]
  },
  {
   "cell_type": "code",
   "execution_count": 4,
   "metadata": {},
   "outputs": [
    {
     "name": "stdout",
     "output_type": "stream",
     "text": [
      " active_mask: array([0., 0.])\n",
      "        cost: 2.2211364862629114e-29\n",
      "         fun: array([-6.66133815e-15, -2.22044605e-16])\n",
      "        grad: array([ 1.33448809e-13, -6.66133815e-14])\n",
      "         jac: array([[-20.00000015,  10.        ],\n",
      "       [ -1.        ,   0.        ]])\n",
      "     message: '`gtol` termination condition is satisfied.'\n",
      "        nfev: 3\n",
      "        njev: 3\n",
      "  optimality: 1.3344880855256055e-13\n",
      "      status: 1\n",
      "     success: True\n",
      "           x: array([1., 1.])\n"
     ]
    }
   ],
   "source": [
    "import numpy as np\n",
    "from scipy.optimize import minimize\n",
    "\n",
    "#Rosenbrock Function\n",
    "def fun_rosenbrock(x):\n",
    "    return np.array([10 * (x[1] - x[0]**2), (1 - x[0])])\n",
    "   \n",
    "from scipy.optimize import least_squares\n",
    "input = np.array([2, 2])\n",
    "res = least_squares(fun_rosenbrock, input)\n",
    "\n",
    "print(res)"
   ]
  },
  {
   "cell_type": "code",
   "execution_count": null,
   "metadata": {},
   "outputs": [],
   "source": []
  }
 ],
 "metadata": {
  "kernelspec": {
   "display_name": "Python 3",
   "language": "python",
   "name": "python3"
  },
  "language_info": {
   "codemirror_mode": {
    "name": "ipython",
    "version": 3
   },
   "file_extension": ".py",
   "mimetype": "text/x-python",
   "name": "python",
   "nbconvert_exporter": "python",
   "pygments_lexer": "ipython3",
   "version": "3.8.10"
  }
 },
 "nbformat": 4,
 "nbformat_minor": 4
}