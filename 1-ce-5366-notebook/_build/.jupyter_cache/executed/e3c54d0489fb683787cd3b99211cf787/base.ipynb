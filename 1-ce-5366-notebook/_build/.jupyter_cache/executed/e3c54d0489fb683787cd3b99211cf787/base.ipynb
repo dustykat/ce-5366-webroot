{
 "cells": [
  {
   "cell_type": "code",
   "execution_count": 1,
   "metadata": {},
   "outputs": [],
   "source": [
    "import numpy\n",
    "NB1=100.0\n",
    "NB2=50.0\n",
    "NB3=30.0\n",
    "C1=250.0\n",
    "C2=75.0\n",
    "C3=60.0\n",
    "p1=0.20\n",
    "p2=0.60\n",
    "p3=0.20\n",
    "q1=4.0\n",
    "q2=10.0\n",
    "q3=17.0\n",
    "# build a cost coefficient vector\n",
    "cost = [NB1,NB2,NB3,-C1,-C2,-C3,-C1,-C2,-C3,-C1,-C2,-C3]  #cost coefficient vector \n",
    "prob = [1 ,1 ,1 ,0.2 ,0.2 ,0.2 ,0.6 ,0.6 ,0.6 ,0.2 ,0.2 ,0.2] #probability mass vector - the ones are for the Target deliveries\n",
    "prices = numpy.array(cost)*numpy.array(prob) # this is our cost coefficient vector\n",
    "# build the constraint set\n",
    "# Build the constraint RHS vector (SciPy uses less-than for inequality)\n",
    "#\n",
    "# constraint matrix\n",
    "constraint = numpy.array([[0 for irow in range(12)] for jcol in range(21)]) ;\n",
    "# manual build by row\n",
    "constraint [0][:] = [1 ,1 ,1 , -1 , -1 , -1 ,0 ,0 ,0 ,0 ,0 ,0]\n",
    "constraint [1][:] = [1 ,1 ,1 ,0 ,0 ,0 , -1 , -1 , -1 ,0 ,0 ,0]\n",
    "constraint [2][:] = [1 ,1 ,1 ,0 ,0 ,0 ,0 ,0 ,0 , -1 , -1 , -1]\n",
    "constraint [3][:] = [1 ,0 ,0 , -1 ,0 ,0 ,0 ,0 ,0 ,0 ,0 ,0]\n",
    "constraint [4][:] = [0 ,1 ,0 ,0 , -1 ,0 ,0 ,0 ,0 ,0 ,0 ,0]\n",
    "constraint [5][:] = [0 ,0 ,1 ,0 ,0 , -1 ,0 ,0 ,0 ,0 ,0 ,0]\n",
    "constraint [6][:] = [1 ,0 ,0 ,0 ,0 ,0 , -1 ,0 ,0 ,0 ,0 ,0]\n",
    "constraint [7][:] = [0 ,1 ,0 ,0 ,0 ,0 ,0 , -1 ,0 ,0 ,0 ,0]\n",
    "constraint [8][:] = [0 ,0 ,1 ,0 ,0 ,0 ,0 ,0 , -1 ,0 ,0 ,0]\n",
    "constraint [9][:] = [1 ,0 ,0 ,0 ,0 ,0 ,0 ,0 ,0 , -1 ,0 ,0]\n",
    "constraint [10][:] = [0 ,1 ,0 ,0 ,0 ,0 ,0 ,0 ,0 ,0 , -1 ,0]\n",
    "constraint [11][:] = [0 ,0 ,1 ,0 ,0 ,0 ,0 ,0 ,0 ,0 ,0 , -1]\n",
    "\n",
    "constraint [12][:] = [1 ,0 ,0 , -1 ,0 ,0 ,0 ,0 ,0 ,0 ,0 ,0]\n",
    "constraint [13][:] = [0 ,1 ,0 ,0 , -1 ,0 ,0 ,0 ,0 ,0 ,0 ,0]\n",
    "constraint [14][:] = [0 ,0 ,1 ,0 ,0 , -1 ,0 ,0 ,0 ,0 ,0 ,0]\n",
    "constraint [15][:] = [1 ,0 ,0 ,0 ,0 ,0 ,-1 ,0 ,0 ,0 ,0 ,0]\n",
    "constraint [16][:] = [0 ,1 ,0 ,0 ,0 ,0 ,0 , -1 ,0 ,0 ,0 ,0]\n",
    "constraint [17][:] = [0 ,0 ,1 ,0 ,0 ,0 ,0 ,0 , -1 ,0 ,0 ,0]\n",
    "constraint [18][:] = [1 ,0 ,0 ,0 ,0 ,0 ,0 ,0 ,0 , -1 ,0 ,0]\n",
    "constraint [19][:] = [0 ,1 ,0 ,0 ,0 ,0 ,0 ,0 ,0 ,0 , -1 ,0]\n",
    "constraint [20][:] = [0 ,0 ,1 ,0 ,0 ,0 ,0 ,0 ,0 ,0 ,0 , -1]\n",
    "\n",
    "        \n",
    "rhs = [4 ,10 ,14 ,2 ,3 ,5 ,2 ,3 ,5 ,2 ,3 ,5 ,0 ,0 ,0 ,0 ,0 ,0 ,0 ,0 ,0]\n",
    "#  Change sense of greater-than constraints, so change sign \n",
    "for irow in range(12,21):\n",
    "    rhs[irow]=-1.0*rhs[irow]\n",
    "    for jcol in range(12):\n",
    "        constraint[irow][jcol]=-1.0*constraint[irow][jcol]\n",
    "\n",
    "# Change sense of prices (solver minimizes only)\n",
    "for jcol in range(12):\n",
    "    prices[jcol]=-1.0*prices[jcol]"
   ]
  },
  {
   "cell_type": "code",
   "execution_count": 2,
   "metadata": {},
   "outputs": [],
   "source": [
    "from scipy.optimize import linprog # load the package"
   ]
  },
  {
   "cell_type": "code",
   "execution_count": 3,
   "metadata": {},
   "outputs": [
    {
     "data": {
      "text/plain": [
       "array([[ 1,  1,  1, -1, -1, -1,  0,  0,  0,  0,  0,  0],\n",
       "       [ 1,  1,  1,  0,  0,  0, -1, -1, -1,  0,  0,  0],\n",
       "       [ 1,  1,  1,  0,  0,  0,  0,  0,  0, -1, -1, -1],\n",
       "       [ 1,  0,  0, -1,  0,  0,  0,  0,  0,  0,  0,  0],\n",
       "       [ 0,  1,  0,  0, -1,  0,  0,  0,  0,  0,  0,  0],\n",
       "       [ 0,  0,  1,  0,  0, -1,  0,  0,  0,  0,  0,  0],\n",
       "       [ 1,  0,  0,  0,  0,  0, -1,  0,  0,  0,  0,  0],\n",
       "       [ 0,  1,  0,  0,  0,  0,  0, -1,  0,  0,  0,  0],\n",
       "       [ 0,  0,  1,  0,  0,  0,  0,  0, -1,  0,  0,  0],\n",
       "       [ 1,  0,  0,  0,  0,  0,  0,  0,  0, -1,  0,  0],\n",
       "       [ 0,  1,  0,  0,  0,  0,  0,  0,  0,  0, -1,  0],\n",
       "       [ 0,  0,  1,  0,  0,  0,  0,  0,  0,  0,  0, -1],\n",
       "       [-1,  0,  0,  1,  0,  0,  0,  0,  0,  0,  0,  0],\n",
       "       [ 0, -1,  0,  0,  1,  0,  0,  0,  0,  0,  0,  0],\n",
       "       [ 0,  0, -1,  0,  0,  1,  0,  0,  0,  0,  0,  0],\n",
       "       [-1,  0,  0,  0,  0,  0,  1,  0,  0,  0,  0,  0],\n",
       "       [ 0, -1,  0,  0,  0,  0,  0,  1,  0,  0,  0,  0],\n",
       "       [ 0,  0, -1,  0,  0,  0,  0,  0,  1,  0,  0,  0],\n",
       "       [-1,  0,  0,  0,  0,  0,  0,  0,  0,  1,  0,  0],\n",
       "       [ 0, -1,  0,  0,  0,  0,  0,  0,  0,  0,  1,  0],\n",
       "       [ 0,  0, -1,  0,  0,  0,  0,  0,  0,  0,  0,  1]])"
      ]
     },
     "execution_count": 3,
     "metadata": {},
     "output_type": "execute_result"
    }
   ],
   "source": [
    "myoptions=dict({\"maxiter\":1000,\"tol\": 1e-9,\"autoscale\":False})\n",
    "#myoptions\n",
    "#prices\n",
    "constraint"
   ]
  },
  {
   "cell_type": "code",
   "execution_count": 4,
   "metadata": {},
   "outputs": [],
   "source": [
    "bnd = [(0, 20) for i in range(12)] # set bounds 0-infnty"
   ]
  },
  {
   "cell_type": "code",
   "execution_count": 5,
   "metadata": {},
   "outputs": [],
   "source": [
    "opt = linprog(c=prices, A_ub=constraint, b_ub=rhs, bounds=bnd, method=\"interior-point\",options=myoptions)\n",
    "#opt"
   ]
  },
  {
   "cell_type": "code",
   "execution_count": 6,
   "metadata": {},
   "outputs": [
    {
     "name": "stdout",
     "output_type": "stream",
     "text": [
      "Optimal Solution Found\n",
      "Cost :  425.0\n",
      "Target Delivery 1  =  2.0\n",
      "Target Delivery 2  =  3.0\n",
      "Target Delivery 3  =  5.0\n",
      "Streamflow State 1\n",
      "Defecit Delivery 1  =  0.0\n",
      "Defecit Delivery 2  =  1.0\n",
      "Defecit Delivery 3  =  5.0\n",
      "Streamflow State 2\n",
      "Defecit Delivery 1  =  0.0\n",
      "Defecit Delivery 2  =  0.0\n",
      "Defecit Delivery 3  =  0.0\n",
      "Streamflow State 3\n",
      "Defecit Delivery 1  =  0.0\n",
      "Defecit Delivery 2  =  0.0\n",
      "Defecit Delivery 3  =  0.0\n"
     ]
    }
   ],
   "source": [
    "# check for solution\n",
    "if opt.status == 0:\n",
    "    print('Optimal Solution Found')\n",
    "    print('Cost : ',-1.0*round(opt.fun,2))\n",
    "    sum = 0.0\n",
    "    irow=0\n",
    "    for i in range(3):\n",
    "        print('Target Delivery',irow+1,' = ',round(opt.x[i],3))\n",
    "        irow=irow+1\n",
    "\n",
    "    print(\"Streamflow State 1\")\n",
    "    irow=0\n",
    "    for i in range(3,6):\n",
    "        print('Defecit Delivery',irow+1,' = ',round(opt.x[i],3))\n",
    "        irow=irow+1\n",
    "    print(\"Streamflow State 2\")\n",
    "    irow=0\n",
    "    for i in range(6,9):\n",
    "        print('Defecit Delivery',irow+1,' = ',round(opt.x[i],3))\n",
    "        irow=irow+1\n",
    "        \n",
    "    print(\"Streamflow State 3\")\n",
    "    irow=0\n",
    "    for i in range(9,12):\n",
    "        print('Defecit Delivery',irow+1,' = ',round(opt.x[i],3))\n",
    "        irow=irow+1\n"
   ]
  },
  {
   "cell_type": "code",
   "execution_count": null,
   "metadata": {},
   "outputs": [],
   "source": []
  }
 ],
 "metadata": {
  "kernelspec": {
   "display_name": "Python 3",
   "language": "python",
   "name": "python3"
  },
  "language_info": {
   "codemirror_mode": {
    "name": "ipython",
    "version": 3
   },
   "file_extension": ".py",
   "mimetype": "text/x-python",
   "name": "python",
   "nbconvert_exporter": "python",
   "pygments_lexer": "ipython3",
   "version": "3.8.10"
  }
 },
 "nbformat": 4,
 "nbformat_minor": 4
}