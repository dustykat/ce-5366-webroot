{
 "cells": [
  {
   "cell_type": "code",
   "execution_count": 1,
   "metadata": {},
   "outputs": [],
   "source": [
    "from scipy.optimize import linprog\n",
    "ct1 = 100\n",
    "ct2 = 50\n",
    "ct3 = 30\n",
    "cd11 = -0.2*250\n",
    "cd21 = -0.2*75\n",
    "cd31 = -0.2*60\n",
    "cd12 = -0.6*250\n",
    "cd22 = -0.6*75\n",
    "cd32 = -0.6*60\n",
    "cd13 = -0.2*250\n",
    "cd23 = -0.2*75\n",
    "cd33 = -0.2*60\n",
    "obj = [-ct1,-ct2,-ct3,-cd11,-cd21,-cd31,-cd12,-cd22,-cd32,-cd13,-cd23,-cd33] # sign change to coerce maximization to minimization, multiply result by -1 to restore to orginal state\n",
    "lhs_ineq = [[  1, 1, 1,-1,-1,-1, 0, 0, 0, 0, 0, 0],  # lhs row 1\n",
    "            [  1, 1, 1, 0, 0, 0,-1,-1,-1, 0, 0, 0],  # lhs row 2\n",
    "            [  1, 1, 1, 0, 0, 0, 0, 0, 0,-1,-1,-1],  # lhs row 3\n",
    "            [  1, 0, 0,-1, 0, 0, 0, 0, 0, 0, 0, 0],  # lhs row 4 sign change to get >= status\n",
    "            [  0, 1, 0, 0,-1, 0, 0, 0, 0, 0, 0, 0],  # lhs row 5\n",
    "            [  0, 0, 1, 0, 0,-1, 0, 0, 0, 0, 0, 0],  # lhs row 6\n",
    "            [  1, 0, 0, 0, 0, 0,-1, 0, 0, 0, 0, 0],  # lhs row 7\n",
    "            [  0, 1, 0, 0, 0, 0, 0,-1, 0, 0, 0, 0],  # lhs row 8\n",
    "            [  0, 0, 1, 0, 0, 0, 0, 0,-1, 0, 0, 0],  # lhs row 9\n",
    "            [  1, 0, 0, 0, 0, 0, 0, 0, 0,-1, 0, 0],  # lhs row 10\n",
    "            [  0, 1, 0, 0, 0, 0, 0, 0, 0, 0,-1, 0],  # lhs row 11\n",
    "            [  0, 0, 1, 0, 0, 0, 0, 0, 0, 0, 0,-1],  # lhs row 12\n",
    "            [ -1, 0, 0, 1, 0, 0, 0, 0, 0, 0, 0, 0],  # lhs row 13\n",
    "            [  0,-1, 0, 0, 1, 0, 0, 0, 0, 0, 0, 0],  # lhs row 14\n",
    "            [  0, 0,-1, 0, 0, 1, 0, 0, 0, 0, 0, 0],  # lhs row 15\n",
    "            [ -1, 0, 0, 0, 0, 0, 1, 0, 0, 0, 0, 0],  # lhs row 16\n",
    "            [  0,-1, 0, 0, 0, 0, 0, 1, 0, 0, 0, 0],  # lhs row 17\n",
    "            [  0, 0,-1, 0, 0, 0, 0, 0, 1, 0, 0, 0],  # lhs row 18\n",
    "            [ -1, 0, 0, 0, 0, 0, 0, 0, 0, 1, 0, 0],  # lhs row 19\n",
    "            [  0,-1, 0, 0, 0, 0, 0, 0, 0, 0, 1, 0],  # lhs row 20\n",
    "            [  0, 0,-1, 0, 0, 0, 0, 0, 0, 0, 0, 1] ] # lhs row 21\n",
    "rhs_ineq = [4,\n",
    "            10,\n",
    "            14,\n",
    "            2,\n",
    "            3,\n",
    "            5,\n",
    "            2,\n",
    "            3,\n",
    "            5,\n",
    "            2,\n",
    "            3,\n",
    "            5,\n",
    "            0,\n",
    "            0,\n",
    "            0,\n",
    "            0,\n",
    "            0,\n",
    "            0,\n",
    "            0,\n",
    "            0,\n",
    "            0]"
   ]
  },
  {
   "cell_type": "code",
   "execution_count": 2,
   "metadata": {},
   "outputs": [
    {
     "data": {
      "text/plain": [
       "     con: array([], dtype=float64)\n",
       "     fun: -425.0\n",
       " message: 'Optimization terminated successfully.'\n",
       "     nit: 6\n",
       "   slack: array([0., 0., 4., 0., 1., 5., 0., 0., 0., 0., 0., 0., 2., 2., 0., 2., 3.,\n",
       "       5., 2., 3., 5.])\n",
       "  status: 0\n",
       " success: True\n",
       "       x: array([2., 3., 5., 0., 1., 5., 0., 0., 0., 0., 0., 0.])"
      ]
     },
     "execution_count": 2,
     "metadata": {},
     "output_type": "execute_result"
    }
   ],
   "source": [
    "opt = linprog(c=obj, A_ub=lhs_ineq, b_ub=rhs_ineq,method=\"revised simplex\")\n",
    "opt"
   ]
  },
  {
   "cell_type": "code",
   "execution_count": 3,
   "metadata": {},
   "outputs": [
    {
     "name": "stdout",
     "output_type": "stream",
     "text": [
      "Objective Function Value : 425.0\n",
      "x_ 1  : 2.0\n",
      "x_ 2  : 3.0\n",
      "x_ 3  : 5.0\n",
      "x_ 4  : 0.0\n",
      "x_ 5  : 1.0\n",
      "x_ 6  : 5.0\n",
      "x_ 7  : 0.0\n",
      "x_ 8  : 0.0\n",
      "x_ 9  : 0.0\n",
      "x_ 10  : 0.0\n",
      "x_ 11  : 0.0\n",
      "x_ 12  : 0.0\n"
     ]
    }
   ],
   "source": [
    "objval=-1*opt['fun']\n",
    "policyvector = opt['x']\n",
    "\n",
    "print(\"Objective Function Value :\",objval)\n",
    "for i in range(len(policyvector)):\n",
    "    print(\"x_\",i+1,\" :\",policyvector[i])"
   ]
  },
  {
   "cell_type": "code",
   "execution_count": null,
   "metadata": {},
   "outputs": [],
   "source": []
  }
 ],
 "metadata": {
  "kernelspec": {
   "display_name": "Python 3",
   "language": "python",
   "name": "python3"
  },
  "language_info": {
   "codemirror_mode": {
    "name": "ipython",
    "version": 3
   },
   "file_extension": ".py",
   "mimetype": "text/x-python",
   "name": "python",
   "nbconvert_exporter": "python",
   "pygments_lexer": "ipython3",
   "version": "3.8.10"
  }
 },
 "nbformat": 4,
 "nbformat_minor": 5
}